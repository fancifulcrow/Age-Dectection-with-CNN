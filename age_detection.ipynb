{
 "cells": [
  {
   "cell_type": "markdown",
   "metadata": {},
   "source": [
    "# Age Detection"
   ]
  },
  {
   "cell_type": "markdown",
   "metadata": {},
   "source": [
    "## Setup"
   ]
  },
  {
   "cell_type": "markdown",
   "metadata": {},
   "source": [
    "### Import Statements"
   ]
  },
  {
   "cell_type": "code",
   "execution_count": 77,
   "metadata": {},
   "outputs": [],
   "source": [
    "import tensorflow as tf\n",
    "from keras.preprocessing import image\n",
    "\n",
    "import pandas as pd\n",
    "import numpy as np\n",
    "import matplotlib.pyplot as plt\n",
    "from sklearn.model_selection import train_test_split"
   ]
  },
  {
   "cell_type": "code",
   "execution_count": 78,
   "metadata": {},
   "outputs": [
    {
     "data": {
      "text/plain": [
       "'2.15.0'"
      ]
     },
     "execution_count": 78,
     "metadata": {},
     "output_type": "execute_result"
    }
   ],
   "source": [
    "tf.__version__"
   ]
  },
  {
   "cell_type": "markdown",
   "metadata": {},
   "source": [
    "### Notebook Presentation"
   ]
  },
  {
   "cell_type": "code",
   "execution_count": 79,
   "metadata": {},
   "outputs": [],
   "source": [
    "pd.options.display.float_format = '{:,.2f}'.format"
   ]
  },
  {
   "cell_type": "markdown",
   "metadata": {},
   "source": [
    "### Load the Data"
   ]
  },
  {
   "cell_type": "code",
   "execution_count": 80,
   "metadata": {},
   "outputs": [],
   "source": [
    "df = pd.read_csv(\"./dataset/age_gender.csv\")"
   ]
  },
  {
   "cell_type": "code",
   "execution_count": 81,
   "metadata": {},
   "outputs": [
    {
     "data": {
      "text/html": [
       "<div>\n",
       "<style scoped>\n",
       "    .dataframe tbody tr th:only-of-type {\n",
       "        vertical-align: middle;\n",
       "    }\n",
       "\n",
       "    .dataframe tbody tr th {\n",
       "        vertical-align: top;\n",
       "    }\n",
       "\n",
       "    .dataframe thead th {\n",
       "        text-align: right;\n",
       "    }\n",
       "</style>\n",
       "<table border=\"1\" class=\"dataframe\">\n",
       "  <thead>\n",
       "    <tr style=\"text-align: right;\">\n",
       "      <th></th>\n",
       "      <th>age</th>\n",
       "      <th>ethnicity</th>\n",
       "      <th>gender</th>\n",
       "      <th>img_name</th>\n",
       "      <th>pixels</th>\n",
       "    </tr>\n",
       "  </thead>\n",
       "  <tbody>\n",
       "    <tr>\n",
       "      <th>10617</th>\n",
       "      <td>3</td>\n",
       "      <td>3</td>\n",
       "      <td>1</td>\n",
       "      <td>20161219230106056.jpg.chip.jpg</td>\n",
       "      <td>70 100 116 139 155 170 181 186 195 207 211 215...</td>\n",
       "    </tr>\n",
       "    <tr>\n",
       "      <th>19169</th>\n",
       "      <td>54</td>\n",
       "      <td>0</td>\n",
       "      <td>0</td>\n",
       "      <td>20170116193350285.jpg.chip.jpg</td>\n",
       "      <td>8 9 11 11 14 20 32 44 55 65 70 85 108 145 175 ...</td>\n",
       "    </tr>\n",
       "    <tr>\n",
       "      <th>21352</th>\n",
       "      <td>65</td>\n",
       "      <td>0</td>\n",
       "      <td>1</td>\n",
       "      <td>20170110133937781.jpg.chip.jpg</td>\n",
       "      <td>14 19 22 21 24 31 34 43 46 34 34 85 87 84 48 2...</td>\n",
       "    </tr>\n",
       "    <tr>\n",
       "      <th>4329</th>\n",
       "      <td>23</td>\n",
       "      <td>4</td>\n",
       "      <td>0</td>\n",
       "      <td>20170103234919628.jpg.chip.jpg</td>\n",
       "      <td>135 69 67 27 17 19 16 17 15 20 21 25 33 41 29 ...</td>\n",
       "    </tr>\n",
       "    <tr>\n",
       "      <th>21843</th>\n",
       "      <td>7</td>\n",
       "      <td>4</td>\n",
       "      <td>1</td>\n",
       "      <td>20161221193133117.jpg.chip.jpg</td>\n",
       "      <td>88 102 140 168 177 193 200 202 205 206 208 210...</td>\n",
       "    </tr>\n",
       "  </tbody>\n",
       "</table>\n",
       "</div>"
      ],
      "text/plain": [
       "       age  ethnicity  gender                        img_name  \\\n",
       "10617    3          3       1  20161219230106056.jpg.chip.jpg   \n",
       "19169   54          0       0  20170116193350285.jpg.chip.jpg   \n",
       "21352   65          0       1  20170110133937781.jpg.chip.jpg   \n",
       "4329    23          4       0  20170103234919628.jpg.chip.jpg   \n",
       "21843    7          4       1  20161221193133117.jpg.chip.jpg   \n",
       "\n",
       "                                                  pixels  \n",
       "10617  70 100 116 139 155 170 181 186 195 207 211 215...  \n",
       "19169  8 9 11 11 14 20 32 44 55 65 70 85 108 145 175 ...  \n",
       "21352  14 19 22 21 24 31 34 43 46 34 34 85 87 84 48 2...  \n",
       "4329   135 69 67 27 17 19 16 17 15 20 21 25 33 41 29 ...  \n",
       "21843  88 102 140 168 177 193 200 202 205 206 208 210...  "
      ]
     },
     "execution_count": 81,
     "metadata": {},
     "output_type": "execute_result"
    }
   ],
   "source": [
    "df.sample(5)"
   ]
  },
  {
   "cell_type": "markdown",
   "metadata": {},
   "source": [
    "## Preliminary Data Exploration"
   ]
  },
  {
   "cell_type": "markdown",
   "metadata": {},
   "source": [
    "### Analyzing the Data"
   ]
  },
  {
   "cell_type": "code",
   "execution_count": 82,
   "metadata": {},
   "outputs": [
    {
     "data": {
      "text/plain": [
       "(23705, 5)"
      ]
     },
     "execution_count": 82,
     "metadata": {},
     "output_type": "execute_result"
    }
   ],
   "source": [
    "df.shape"
   ]
  },
  {
   "cell_type": "code",
   "execution_count": 83,
   "metadata": {},
   "outputs": [
    {
     "data": {
      "text/plain": [
       "Index(['age', 'ethnicity', 'gender', 'img_name', 'pixels'], dtype='object')"
      ]
     },
     "execution_count": 83,
     "metadata": {},
     "output_type": "execute_result"
    }
   ],
   "source": [
    "df.columns"
   ]
  },
  {
   "cell_type": "code",
   "execution_count": 84,
   "metadata": {},
   "outputs": [
    {
     "data": {
      "text/plain": [
       "age          0\n",
       "ethnicity    0\n",
       "gender       0\n",
       "img_name     0\n",
       "pixels       0\n",
       "dtype: int64"
      ]
     },
     "execution_count": 84,
     "metadata": {},
     "output_type": "execute_result"
    }
   ],
   "source": [
    "df.isna().sum()"
   ]
  },
  {
   "cell_type": "code",
   "execution_count": 85,
   "metadata": {},
   "outputs": [
    {
     "data": {
      "text/html": [
       "<div>\n",
       "<style scoped>\n",
       "    .dataframe tbody tr th:only-of-type {\n",
       "        vertical-align: middle;\n",
       "    }\n",
       "\n",
       "    .dataframe tbody tr th {\n",
       "        vertical-align: top;\n",
       "    }\n",
       "\n",
       "    .dataframe thead th {\n",
       "        text-align: right;\n",
       "    }\n",
       "</style>\n",
       "<table border=\"1\" class=\"dataframe\">\n",
       "  <thead>\n",
       "    <tr style=\"text-align: right;\">\n",
       "      <th></th>\n",
       "      <th>age</th>\n",
       "      <th>ethnicity</th>\n",
       "      <th>gender</th>\n",
       "    </tr>\n",
       "  </thead>\n",
       "  <tbody>\n",
       "    <tr>\n",
       "      <th>count</th>\n",
       "      <td>23,705.00</td>\n",
       "      <td>23,705.00</td>\n",
       "      <td>23,705.00</td>\n",
       "    </tr>\n",
       "    <tr>\n",
       "      <th>mean</th>\n",
       "      <td>33.30</td>\n",
       "      <td>1.27</td>\n",
       "      <td>0.48</td>\n",
       "    </tr>\n",
       "    <tr>\n",
       "      <th>std</th>\n",
       "      <td>19.89</td>\n",
       "      <td>1.35</td>\n",
       "      <td>0.50</td>\n",
       "    </tr>\n",
       "    <tr>\n",
       "      <th>min</th>\n",
       "      <td>1.00</td>\n",
       "      <td>0.00</td>\n",
       "      <td>0.00</td>\n",
       "    </tr>\n",
       "    <tr>\n",
       "      <th>25%</th>\n",
       "      <td>23.00</td>\n",
       "      <td>0.00</td>\n",
       "      <td>0.00</td>\n",
       "    </tr>\n",
       "    <tr>\n",
       "      <th>50%</th>\n",
       "      <td>29.00</td>\n",
       "      <td>1.00</td>\n",
       "      <td>0.00</td>\n",
       "    </tr>\n",
       "    <tr>\n",
       "      <th>75%</th>\n",
       "      <td>45.00</td>\n",
       "      <td>2.00</td>\n",
       "      <td>1.00</td>\n",
       "    </tr>\n",
       "    <tr>\n",
       "      <th>max</th>\n",
       "      <td>116.00</td>\n",
       "      <td>4.00</td>\n",
       "      <td>1.00</td>\n",
       "    </tr>\n",
       "  </tbody>\n",
       "</table>\n",
       "</div>"
      ],
      "text/plain": [
       "            age  ethnicity    gender\n",
       "count 23,705.00  23,705.00 23,705.00\n",
       "mean      33.30       1.27      0.48\n",
       "std       19.89       1.35      0.50\n",
       "min        1.00       0.00      0.00\n",
       "25%       23.00       0.00      0.00\n",
       "50%       29.00       1.00      0.00\n",
       "75%       45.00       2.00      1.00\n",
       "max      116.00       4.00      1.00"
      ]
     },
     "execution_count": 85,
     "metadata": {},
     "output_type": "execute_result"
    }
   ],
   "source": [
    "df.describe()"
   ]
  },
  {
   "cell_type": "code",
   "execution_count": 86,
   "metadata": {},
   "outputs": [
    {
     "name": "stdout",
     "output_type": "stream",
     "text": [
      "<class 'pandas.core.frame.DataFrame'>\n",
      "RangeIndex: 23705 entries, 0 to 23704\n",
      "Data columns (total 5 columns):\n",
      " #   Column     Non-Null Count  Dtype \n",
      "---  ------     --------------  ----- \n",
      " 0   age        23705 non-null  int64 \n",
      " 1   ethnicity  23705 non-null  int64 \n",
      " 2   gender     23705 non-null  int64 \n",
      " 3   img_name   23705 non-null  object\n",
      " 4   pixels     23705 non-null  object\n",
      "dtypes: int64(3), object(2)\n",
      "memory usage: 926.1+ KB\n"
     ]
    }
   ],
   "source": [
    "df.info()"
   ]
  },
  {
   "cell_type": "markdown",
   "metadata": {},
   "source": [
    "### Visualizing the Ages"
   ]
  },
  {
   "cell_type": "code",
   "execution_count": 87,
   "metadata": {},
   "outputs": [
    {
     "data": {
      "image/png": "[encoded data removed]",
      "text/plain": [
       "<Figure size 2000x1000 with 1 Axes>"
      ]
     },
     "metadata": {},
     "output_type": "display_data"
    }
   ],
   "source": [
    "age_distribution = df['age'].value_counts()\n",
    "\n",
    "plt.figure(figsize=(20, 10))\n",
    "plt.bar(age_distribution.index, age_distribution.values)\n",
    "plt.title(\"Distribution of Ages\", fontsize=24)\n",
    "\n",
    "for i, count in enumerate(age_distribution.values):\n",
    "    plt.text(age_distribution.index[i], count + 10, str(count), ha='center', va='bottom', rotation=90)\n",
    "\n",
    "plt.xticks(range(0, 121), rotation=90)\n",
    "plt.xlabel('Age', fontsize=16)\n",
    "plt.ylabel('Count', fontsize=16)\n",
    "\n",
    "plt.show()"
   ]
  },
  {
   "cell_type": "markdown",
   "metadata": {},
   "source": [
    "## Data Preprocessing"
   ]
  },
  {
   "cell_type": "markdown",
   "metadata": {},
   "source": [
    "### Binning of the Ages"
   ]
  },
  {
   "cell_type": "code",
   "execution_count": 88,
   "metadata": {},
   "outputs": [],
   "source": [
    "age_bins = [0, 3, 17, 29, 44, 65, 120]\n",
    "age_labels = [0, 1, 2, 3, 4, 5]\n",
    "\n",
    "df['age_group'] = pd.cut(df['age'], bins=age_bins, labels=age_labels, right=False)"
   ]
  },
  {
   "cell_type": "code",
   "execution_count": 89,
   "metadata": {},
   "outputs": [],
   "source": [
    "age_group_map = ['0 - 3', '4 - 17', '18 - 29', '30 - 44', '45 - 64', '65+']"
   ]
  },
  {
   "cell_type": "code",
   "execution_count": 90,
   "metadata": {},
   "outputs": [
    {
     "data": {
      "text/html": [
       "<div>\n",
       "<style scoped>\n",
       "    .dataframe tbody tr th:only-of-type {\n",
       "        vertical-align: middle;\n",
       "    }\n",
       "\n",
       "    .dataframe tbody tr th {\n",
       "        vertical-align: top;\n",
       "    }\n",
       "\n",
       "    .dataframe thead th {\n",
       "        text-align: right;\n",
       "    }\n",
       "</style>\n",
       "<table border=\"1\" class=\"dataframe\">\n",
       "  <thead>\n",
       "    <tr style=\"text-align: right;\">\n",
       "      <th></th>\n",
       "      <th>age</th>\n",
       "      <th>ethnicity</th>\n",
       "      <th>gender</th>\n",
       "      <th>img_name</th>\n",
       "      <th>pixels</th>\n",
       "      <th>age_group</th>\n",
       "    </tr>\n",
       "  </thead>\n",
       "  <tbody>\n",
       "    <tr>\n",
       "      <th>12696</th>\n",
       "      <td>34</td>\n",
       "      <td>1</td>\n",
       "      <td>0</td>\n",
       "      <td>20170117010115390.jpg.chip.jpg</td>\n",
       "      <td>169 163 167 162 170 158 85 72 65 53 55 56 59 6...</td>\n",
       "      <td>3</td>\n",
       "    </tr>\n",
       "    <tr>\n",
       "      <th>19346</th>\n",
       "      <td>54</td>\n",
       "      <td>0</td>\n",
       "      <td>0</td>\n",
       "      <td>20170111171747448.jpg.chip.jpg</td>\n",
       "      <td>94 54 57 76 132 160 160 168 168 179 187 189 18...</td>\n",
       "      <td>4</td>\n",
       "    </tr>\n",
       "    <tr>\n",
       "      <th>20074</th>\n",
       "      <td>58</td>\n",
       "      <td>0</td>\n",
       "      <td>0</td>\n",
       "      <td>20170105173550604.jpg.chip.jpg</td>\n",
       "      <td>134 134 135 131 136 102 99 92 88 93 103 124 13...</td>\n",
       "      <td>4</td>\n",
       "    </tr>\n",
       "    <tr>\n",
       "      <th>1245</th>\n",
       "      <td>10</td>\n",
       "      <td>4</td>\n",
       "      <td>0</td>\n",
       "      <td>20170103223451479.jpg.chip.jpg</td>\n",
       "      <td>130 121 52 25 20 24 21 20 13 10 9 16 29 36 52 ...</td>\n",
       "      <td>1</td>\n",
       "    </tr>\n",
       "    <tr>\n",
       "      <th>12400</th>\n",
       "      <td>32</td>\n",
       "      <td>0</td>\n",
       "      <td>1</td>\n",
       "      <td>20170103180822745.jpg.chip.jpg</td>\n",
       "      <td>64 62 46 53 40 32 56 85 108 117 126 129 133 13...</td>\n",
       "      <td>3</td>\n",
       "    </tr>\n",
       "  </tbody>\n",
       "</table>\n",
       "</div>"
      ],
      "text/plain": [
       "       age  ethnicity  gender                        img_name  \\\n",
       "12696   34          1       0  20170117010115390.jpg.chip.jpg   \n",
       "19346   54          0       0  20170111171747448.jpg.chip.jpg   \n",
       "20074   58          0       0  20170105173550604.jpg.chip.jpg   \n",
       "1245    10          4       0  20170103223451479.jpg.chip.jpg   \n",
       "12400   32          0       1  20170103180822745.jpg.chip.jpg   \n",
       "\n",
       "                                                  pixels age_group  \n",
       "12696  169 163 167 162 170 158 85 72 65 53 55 56 59 6...         3  \n",
       "19346  94 54 57 76 132 160 160 168 168 179 187 189 18...         4  \n",
       "20074  134 134 135 131 136 102 99 92 88 93 103 124 13...         4  \n",
       "1245   130 121 52 25 20 24 21 20 13 10 9 16 29 36 52 ...         1  \n",
       "12400  64 62 46 53 40 32 56 85 108 117 126 129 133 13...         3  "
      ]
     },
     "execution_count": 90,
     "metadata": {},
     "output_type": "execute_result"
    }
   ],
   "source": [
    "df.sample(5)"
   ]
  },
  {
   "cell_type": "code",
   "execution_count": 91,
   "metadata": {},
   "outputs": [
    {
     "data": {
      "text/plain": [
       "[0, 1, 5, 2, 3, 4]\n",
       "Categories (6, int64): [0 < 1 < 2 < 3 < 4 < 5]"
      ]
     },
     "execution_count": 91,
     "metadata": {},
     "output_type": "execute_result"
    }
   ],
   "source": [
    "df['age_group'].unique()"
   ]
  },
  {
   "cell_type": "markdown",
   "metadata": {},
   "source": [
    "### Visualizing the Age Ranges"
   ]
  },
  {
   "cell_type": "code",
   "execution_count": 92,
   "metadata": {},
   "outputs": [
    {
     "data": {
      "image/png": "[encoded data removed]",
      "text/plain": [
       "<Figure size 2000x1000 with 1 Axes>"
      ]
     },
     "metadata": {},
     "output_type": "display_data"
    }
   ],
   "source": [
    "age_group_distribution = df['age_group'].value_counts().sort_index()\n",
    "\n",
    "plt.figure(figsize=(20, 10))\n",
    "plt.bar(age_group_distribution.index, age_group_distribution.values)\n",
    "plt.title(\"Distribution of Age Ranges\", fontsize=24)\n",
    "\n",
    "for i, count in enumerate(age_group_distribution.values):\n",
    "    plt.text(age_group_distribution.index[i], count + 10, str(count), ha='center', va='bottom')\n",
    "\n",
    "plt.xticks(age_group_distribution.index)\n",
    "plt.xlabel('Age Group', fontsize=16)\n",
    "plt.ylabel('Count', fontsize=16)\n",
    "\n",
    "plt.show()"
   ]
  },
  {
   "cell_type": "markdown",
   "metadata": {},
   "source": [
    "### Reshaping the Pixels Column"
   ]
  },
  {
   "cell_type": "code",
   "execution_count": 93,
   "metadata": {},
   "outputs": [
    {
     "data": {
      "text/plain": [
       "array([129., 128., 128., ..., 146., 146., 146.], dtype=float32)"
      ]
     },
     "execution_count": 93,
     "metadata": {},
     "output_type": "execute_result"
    }
   ],
   "source": [
    "df['pixels'] = df['pixels'].apply(lambda x:  np.array(x.split(), dtype='float32'))\n",
    "\n",
    "df['pixels'][0]"
   ]
  },
  {
   "cell_type": "code",
   "execution_count": 94,
   "metadata": {},
   "outputs": [
    {
     "data": {
      "text/plain": [
       "(23705, 2304)"
      ]
     },
     "execution_count": 94,
     "metadata": {},
     "output_type": "execute_result"
    }
   ],
   "source": [
    "X = np.array(df['pixels'].tolist())\n",
    "\n",
    "X.shape"
   ]
  },
  {
   "cell_type": "code",
   "execution_count": 95,
   "metadata": {},
   "outputs": [
    {
     "data": {
      "text/plain": [
       "(48, 48, 1)"
      ]
     },
     "execution_count": 95,
     "metadata": {},
     "output_type": "execute_result"
    }
   ],
   "source": [
    "X = X.reshape(-1, 48, 48, 1) # The images are 48x48 mono\n",
    "\n",
    "X[0].shape"
   ]
  },
  {
   "cell_type": "code",
   "execution_count": 96,
   "metadata": {},
   "outputs": [
    {
     "data": {
      "image/png": "[encoded data removed]",
      "text/plain": [
       "<Figure size 640x480 with 1 Axes>"
      ]
     },
     "metadata": {},
     "output_type": "display_data"
    }
   ],
   "source": [
    "plt.imshow(X[0], cmap='gray')\n",
    "plt.xlabel(f\"Age: {age_group_map[df['age_group'][0]]}\")\n",
    "\n",
    "plt.xticks([])\n",
    "plt.yticks([])\n",
    "plt.grid(False)"
   ]
  },
  {
   "cell_type": "markdown",
   "metadata": {},
   "source": [
    "### Training and Test Split"
   ]
  },
  {
   "cell_type": "code",
   "execution_count": 97,
   "metadata": {},
   "outputs": [],
   "source": [
    "X = X / 255.0 # Normalizing the inputs\n",
    "y = tf.keras.utils.to_categorical(np.array(df['age_group']), num_classes=6)\n",
    "\n",
    "X_train, X_test, y_train, y_test = train_test_split(X, y, test_size=0.2, random_state=24)"
   ]
  },
  {
   "cell_type": "markdown",
   "metadata": {},
   "source": [
    "## The Model"
   ]
  },
  {
   "cell_type": "markdown",
   "metadata": {},
   "source": [
    "### Initializing the Model"
   ]
  },
  {
   "cell_type": "code",
   "execution_count": 184,
   "metadata": {},
   "outputs": [],
   "source": [
    "age_detection_model = tf.keras.models.Sequential()"
   ]
  },
  {
   "cell_type": "markdown",
   "metadata": {},
   "source": [
    "### Building the Model"
   ]
  },
  {
   "cell_type": "code",
   "execution_count": 185,
   "metadata": {},
   "outputs": [],
   "source": [
    "age_detection_model.add(tf.keras.layers.Conv2D(filters=32, kernel_size=3, activation='relu', input_shape=(48, 48, 1)))\n",
    "# age_detection_model.add(tf.keras.layers.BatchNormalization())\n",
    "age_detection_model.add(tf.keras.layers.MaxPool2D(pool_size=2, strides=2))\n",
    "age_detection_model.add(tf.keras.layers.Dropout(0.2))\n",
    "\n",
    "age_detection_model.add(tf.keras.layers.Conv2D(filters=64, kernel_size=3, activation='relu'))\n",
    "# age_detection_model.add(tf.keras.layers.BatchNormalization())\n",
    "age_detection_model.add(tf.keras.layers.MaxPool2D(pool_size=2, strides=2))\n",
    "age_detection_model.add(tf.keras.layers.Dropout(0.2))\n",
    "\n",
    "age_detection_model.add(tf.keras.layers.Conv2D(filters=128, kernel_size=3, activation='relu'))\n",
    "# age_detection_model.add(tf.keras.layers.BatchNormalization())\n",
    "age_detection_model.add(tf.keras.layers.MaxPool2D(pool_size=2, strides=2))\n",
    "age_detection_model.add(tf.keras.layers.Dropout(0.2))\n",
    "\n",
    "age_detection_model.add(tf.keras.layers.Flatten())\n",
    "\n",
    "age_detection_model.add(tf.keras.layers.Dense(units=256, activation='relu'))\n",
    "age_detection_model.add(tf.keras.layers.Dropout(0.5))\n",
    "\n",
    "age_detection_model.add(tf.keras.layers.Dense(units=6, activation='softmax'))"
   ]
  },
  {
   "cell_type": "markdown",
   "metadata": {},
   "source": [
    "### Compiling the Model"
   ]
  },
  {
   "cell_type": "code",
   "execution_count": 186,
   "metadata": {},
   "outputs": [],
   "source": [
    "age_detection_model.compile(optimizer='adam', loss='categorical_crossentropy', metrics=['accuracy'])"
   ]
  },
  {
   "cell_type": "markdown",
   "metadata": {},
   "source": [
    "### Training the Model"
   ]
  },
  {
   "cell_type": "code",
   "execution_count": 187,
   "metadata": {},
   "outputs": [],
   "source": [
    "early_stopping = tf.keras.callbacks.EarlyStopping(patience=20, min_delta=0.001,restore_best_weights=True)\n",
    "\n",
    "learning_rate_reduction = tf.keras.callbacks.ReduceLROnPlateau(monitor='val_accuracy', patience=3, verbose=1, factor=0.5, min_lr=0.00001)"
   ]
  },
  {
   "cell_type": "code",
   "execution_count": 188,
   "metadata": {},
   "outputs": [
    {
     "name": "stdout",
     "output_type": "stream",
     "text": [
      "Epoch 1/100\n",
      "593/593 [==============================] - 21s 30ms/step - loss: 1.4484 - accuracy: 0.3765 - val_loss: 1.2109 - val_accuracy: 0.4649 - lr: 0.0010\n",
      "Epoch 2/100\n",
      "593/593 [==============================] - 21s 36ms/step - loss: 1.1717 - accuracy: 0.4889 - val_loss: 1.0903 - val_accuracy: 0.5353 - lr: 0.0010\n",
      "Epoch 3/100\n",
      "593/593 [==============================] - 22s 36ms/step - loss: 1.0909 - accuracy: 0.5279 - val_loss: 1.0001 - val_accuracy: 0.5680 - lr: 0.0010\n",
      "Epoch 4/100\n",
      "593/593 [==============================] - 21s 35ms/step - loss: 1.0334 - accuracy: 0.5491 - val_loss: 0.9536 - val_accuracy: 0.5872 - lr: 0.0010\n",
      "Epoch 5/100\n",
      "593/593 [==============================] - 20s 34ms/step - loss: 0.9862 - accuracy: 0.5667 - val_loss: 0.9647 - val_accuracy: 0.5701 - lr: 0.0010\n",
      "Epoch 6/100\n",
      "593/593 [==============================] - 21s 36ms/step - loss: 0.9622 - accuracy: 0.5775 - val_loss: 0.8991 - val_accuracy: 0.6096 - lr: 0.0010\n",
      "Epoch 7/100\n",
      "593/593 [==============================] - 19s 32ms/step - loss: 0.9317 - accuracy: 0.5934 - val_loss: 0.8748 - val_accuracy: 0.6146 - lr: 0.0010\n",
      "Epoch 8/100\n",
      "593/593 [==============================] - 17s 29ms/step - loss: 0.9046 - accuracy: 0.6063 - val_loss: 0.8687 - val_accuracy: 0.6229 - lr: 0.0010\n",
      "Epoch 9/100\n",
      "593/593 [==============================] - 21s 35ms/step - loss: 0.8915 - accuracy: 0.6116 - val_loss: 0.8551 - val_accuracy: 0.6302 - lr: 0.0010\n",
      "Epoch 10/100\n",
      "593/593 [==============================] - 21s 35ms/step - loss: 0.8723 - accuracy: 0.6190 - val_loss: 0.8753 - val_accuracy: 0.6134 - lr: 0.0010\n",
      "Epoch 11/100\n",
      "593/593 [==============================] - 21s 35ms/step - loss: 0.8617 - accuracy: 0.6240 - val_loss: 0.8329 - val_accuracy: 0.6283 - lr: 0.0010\n",
      "Epoch 12/100\n",
      "593/593 [==============================] - 21s 35ms/step - loss: 0.8548 - accuracy: 0.6262 - val_loss: 0.8327 - val_accuracy: 0.6321 - lr: 0.0010\n",
      "Epoch 13/100\n",
      "593/593 [==============================] - 21s 36ms/step - loss: 0.8374 - accuracy: 0.6350 - val_loss: 0.8228 - val_accuracy: 0.6368 - lr: 0.0010\n",
      "Epoch 14/100\n",
      "593/593 [==============================] - 22s 37ms/step - loss: 0.8252 - accuracy: 0.6378 - val_loss: 0.8535 - val_accuracy: 0.6252 - lr: 0.0010\n",
      "Epoch 15/100\n",
      "593/593 [==============================] - 23s 39ms/step - loss: 0.8095 - accuracy: 0.6481 - val_loss: 0.8201 - val_accuracy: 0.6402 - lr: 0.0010\n",
      "Epoch 16/100\n",
      "593/593 [==============================] - 22s 38ms/step - loss: 0.8008 - accuracy: 0.6485 - val_loss: 0.8162 - val_accuracy: 0.6520 - lr: 0.0010\n",
      "Epoch 17/100\n",
      "593/593 [==============================] - 23s 38ms/step - loss: 0.7933 - accuracy: 0.6522 - val_loss: 0.8259 - val_accuracy: 0.6338 - lr: 0.0010\n",
      "Epoch 18/100\n",
      "593/593 [==============================] - 22s 37ms/step - loss: 0.7896 - accuracy: 0.6558 - val_loss: 0.8451 - val_accuracy: 0.6260 - lr: 0.0010\n",
      "Epoch 19/100\n",
      "593/593 [==============================] - ETA: 0s - loss: 0.7827 - accuracy: 0.6567\n",
      "Epoch 19: ReduceLROnPlateau reducing learning rate to 0.0005000000237487257.\n",
      "593/593 [==============================] - 21s 36ms/step - loss: 0.7827 - accuracy: 0.6567 - val_loss: 0.8374 - val_accuracy: 0.6368 - lr: 0.0010\n",
      "Epoch 20/100\n",
      "593/593 [==============================] - 20s 34ms/step - loss: 0.7393 - accuracy: 0.6755 - val_loss: 0.7977 - val_accuracy: 0.6499 - lr: 5.0000e-04\n",
      "Epoch 21/100\n",
      "593/593 [==============================] - 16s 27ms/step - loss: 0.7312 - accuracy: 0.6812 - val_loss: 0.7935 - val_accuracy: 0.6478 - lr: 5.0000e-04\n",
      "Epoch 22/100\n",
      "593/593 [==============================] - ETA: 0s - loss: 0.7127 - accuracy: 0.6856\n",
      "Epoch 22: ReduceLROnPlateau reducing learning rate to 0.0002500000118743628.\n",
      "593/593 [==============================] - 12s 20ms/step - loss: 0.7127 - accuracy: 0.6856 - val_loss: 0.8058 - val_accuracy: 0.6461 - lr: 5.0000e-04\n",
      "Epoch 23/100\n",
      "593/593 [==============================] - 11s 19ms/step - loss: 0.6900 - accuracy: 0.6983 - val_loss: 0.8119 - val_accuracy: 0.6480 - lr: 2.5000e-04\n",
      "Epoch 24/100\n",
      "593/593 [==============================] - 11s 19ms/step - loss: 0.6833 - accuracy: 0.7025 - val_loss: 0.7999 - val_accuracy: 0.6499 - lr: 2.5000e-04\n",
      "Epoch 25/100\n",
      "592/593 [============================>.] - ETA: 0s - loss: 0.6798 - accuracy: 0.7047\n",
      "Epoch 25: ReduceLROnPlateau reducing learning rate to 0.0001250000059371814.\n",
      "593/593 [==============================] - 18s 30ms/step - loss: 0.6800 - accuracy: 0.7047 - val_loss: 0.8007 - val_accuracy: 0.6513 - lr: 2.5000e-04\n",
      "Epoch 26/100\n",
      "593/593 [==============================] - 15s 25ms/step - loss: 0.6722 - accuracy: 0.7084 - val_loss: 0.8003 - val_accuracy: 0.6534 - lr: 1.2500e-04\n",
      "Epoch 27/100\n",
      "593/593 [==============================] - 10s 17ms/step - loss: 0.6597 - accuracy: 0.7110 - val_loss: 0.8011 - val_accuracy: 0.6518 - lr: 1.2500e-04\n",
      "Epoch 28/100\n",
      "593/593 [==============================] - 10s 17ms/step - loss: 0.6615 - accuracy: 0.7128 - val_loss: 0.8005 - val_accuracy: 0.6575 - lr: 1.2500e-04\n",
      "Epoch 29/100\n",
      "593/593 [==============================] - 10s 17ms/step - loss: 0.6635 - accuracy: 0.7100 - val_loss: 0.7987 - val_accuracy: 0.6537 - lr: 1.2500e-04\n",
      "Epoch 30/100\n",
      "593/593 [==============================] - 10s 17ms/step - loss: 0.6523 - accuracy: 0.7158 - val_loss: 0.7979 - val_accuracy: 0.6530 - lr: 1.2500e-04\n",
      "Epoch 31/100\n",
      "592/593 [============================>.] - ETA: 0s - loss: 0.6512 - accuracy: 0.7167\n",
      "Epoch 31: ReduceLROnPlateau reducing learning rate to 6.25000029685907e-05.\n",
      "593/593 [==============================] - 10s 17ms/step - loss: 0.6513 - accuracy: 0.7167 - val_loss: 0.7952 - val_accuracy: 0.6541 - lr: 1.2500e-04\n",
      "Epoch 32/100\n",
      "593/593 [==============================] - 10s 17ms/step - loss: 0.6492 - accuracy: 0.7197 - val_loss: 0.8015 - val_accuracy: 0.6541 - lr: 6.2500e-05\n",
      "Epoch 33/100\n",
      "593/593 [==============================] - 11s 18ms/step - loss: 0.6498 - accuracy: 0.7155 - val_loss: 0.8025 - val_accuracy: 0.6545 - lr: 6.2500e-05\n",
      "Epoch 34/100\n",
      "593/593 [==============================] - 18s 30ms/step - loss: 0.6470 - accuracy: 0.7176 - val_loss: 0.7990 - val_accuracy: 0.6581 - lr: 6.2500e-05\n",
      "Epoch 35/100\n",
      "593/593 [==============================] - 10s 17ms/step - loss: 0.6464 - accuracy: 0.7155 - val_loss: 0.8015 - val_accuracy: 0.6541 - lr: 6.2500e-05\n",
      "Epoch 36/100\n",
      "593/593 [==============================] - 10s 17ms/step - loss: 0.6439 - accuracy: 0.7195 - val_loss: 0.7988 - val_accuracy: 0.6537 - lr: 6.2500e-05\n",
      "Epoch 37/100\n",
      "592/593 [============================>.] - ETA: 0s - loss: 0.6418 - accuracy: 0.7203\n",
      "Epoch 37: ReduceLROnPlateau reducing learning rate to 3.125000148429535e-05.\n",
      "593/593 [==============================] - 10s 17ms/step - loss: 0.6416 - accuracy: 0.7205 - val_loss: 0.8003 - val_accuracy: 0.6560 - lr: 6.2500e-05\n",
      "Epoch 38/100\n",
      "593/593 [==============================] - 10s 17ms/step - loss: 0.6349 - accuracy: 0.7193 - val_loss: 0.8014 - val_accuracy: 0.6547 - lr: 3.1250e-05\n",
      "Epoch 39/100\n",
      "593/593 [==============================] - 10s 17ms/step - loss: 0.6372 - accuracy: 0.7240 - val_loss: 0.8011 - val_accuracy: 0.6560 - lr: 3.1250e-05\n",
      "Epoch 40/100\n",
      "590/593 [============================>.] - ETA: 0s - loss: 0.6342 - accuracy: 0.7260\n",
      "Epoch 40: ReduceLROnPlateau reducing learning rate to 1.5625000742147677e-05.\n",
      "593/593 [==============================] - 10s 17ms/step - loss: 0.6343 - accuracy: 0.7258 - val_loss: 0.8018 - val_accuracy: 0.6516 - lr: 3.1250e-05\n",
      "Epoch 41/100\n",
      "593/593 [==============================] - 11s 18ms/step - loss: 0.6377 - accuracy: 0.7197 - val_loss: 0.8005 - val_accuracy: 0.6551 - lr: 1.5625e-05\n"
     ]
    },
    {
     "data": {
      "text/plain": [
       "<keras.src.callbacks.History at 0x137d9e8d2d0>"
      ]
     },
     "execution_count": 188,
     "metadata": {},
     "output_type": "execute_result"
    }
   ],
   "source": [
    "age_detection_model.fit(X_train, y_train, batch_size=32, validation_data=(X_test, y_test), epochs=100, callbacks= [early_stopping, learning_rate_reduction])"
   ]
  },
  {
   "cell_type": "markdown",
   "metadata": {},
   "source": []
  }
 ],
 "metadata": {
  "kernelspec": {
   "display_name": ".venv",
   "language": "python",
   "name": "python3"
  },
  "language_info": {
   "codemirror_mode": {
    "name": "ipython",
    "version": 3
   },
   "file_extension": ".py",
   "mimetype": "text/x-python",
   "name": "python",
   "nbconvert_exporter": "python",
   "pygments_lexer": "ipython3",
   "version": "3.11.1"
  }
 },
 "nbformat": 4,
 "nbformat_minor": 2
}
