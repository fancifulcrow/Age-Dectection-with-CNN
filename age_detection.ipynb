{
  "cells": [
    {
      "cell_type": "markdown",
      "metadata": {},
      "source": [
        "# Age Detection"
      ]
    },
    {
      "cell_type": "markdown",
      "metadata": {},
      "source": [
        "## Setup"
      ]
    },
    {
      "cell_type": "markdown",
      "metadata": {},
      "source": [
        "### Import Statements"
      ]
    },
    {
      "cell_type": "code",
      "execution_count": 1,
      "metadata": {},
      "outputs": [],
      "source": [
        "import tensorflow as tf\n",
        "from keras.preprocessing import image\n",
        "\n",
        "import pandas as pd\n",
        "import numpy as np\n",
        "import matplotlib.pyplot as plt\n",
        "from sklearn.model_selection import train_test_split"
      ]
    },
    {
      "cell_type": "code",
      "execution_count": 2,
      "metadata": {},
      "outputs": [
        {
          "data": {
            "text/plain": [
              "'2.15.0'"
            ]
          },
          "execution_count": 2,
          "metadata": {},
          "output_type": "execute_result"
        }
      ],
      "source": [
        "tf.__version__"
      ]
    },
    {
      "cell_type": "markdown",
      "metadata": {},
      "source": [
        "### Notebook Presentation"
      ]
    },
    {
      "cell_type": "code",
      "execution_count": 3,
      "metadata": {},
      "outputs": [],
      "source": [
        "pd.options.display.float_format = '{:,.2f}'.format"
      ]
    },
    {
      "cell_type": "markdown",
      "metadata": {},
      "source": [
        "### Load the Data"
      ]
    },
    {
      "cell_type": "code",
      "execution_count": 4,
      "metadata": {},
      "outputs": [],
      "source": [
        "df = pd.read_csv(\"./dataset/age_gender.csv\")"
      ]
    },
    {
      "cell_type": "code",
      "execution_count": 5,
      "metadata": {},
      "outputs": [
        {
          "data": {
            "text/html": [
              "<div>\n",
              "<style scoped>\n",
              "    .dataframe tbody tr th:only-of-type {\n",
              "        vertical-align: middle;\n",
              "    }\n",
              "\n",
              "    .dataframe tbody tr th {\n",
              "        vertical-align: top;\n",
              "    }\n",
              "\n",
              "    .dataframe thead th {\n",
              "        text-align: right;\n",
              "    }\n",
              "</style>\n",
              "<table border=\"1\" class=\"dataframe\">\n",
              "  <thead>\n",
              "    <tr style=\"text-align: right;\">\n",
              "      <th></th>\n",
              "      <th>age</th>\n",
              "      <th>ethnicity</th>\n",
              "      <th>gender</th>\n",
              "      <th>img_name</th>\n",
              "      <th>pixels</th>\n",
              "    </tr>\n",
              "  </thead>\n",
              "  <tbody>\n",
              "    <tr>\n",
              "      <th>8229</th>\n",
              "      <td>26</td>\n",
              "      <td>3</td>\n",
              "      <td>0</td>\n",
              "      <td>20170117154558934.jpg.chip.jpg</td>\n",
              "      <td>165 166 167 171 173 62 5 9 42 82 87 93 96 108 ...</td>\n",
              "    </tr>\n",
              "    <tr>\n",
              "      <th>18644</th>\n",
              "      <td>52</td>\n",
              "      <td>0</td>\n",
              "      <td>0</td>\n",
              "      <td>20170104212249957.jpg.chip.jpg</td>\n",
              "      <td>49 54 88 88 118 148 165 164 168 175 176 181 18...</td>\n",
              "    </tr>\n",
              "    <tr>\n",
              "      <th>16251</th>\n",
              "      <td>41</td>\n",
              "      <td>1</td>\n",
              "      <td>0</td>\n",
              "      <td>20170117140422547.jpg.chip.jpg</td>\n",
              "      <td>20 30 35 45 51 57 58 55 57 59 62 64 72 80 85 9...</td>\n",
              "    </tr>\n",
              "    <tr>\n",
              "      <th>9735</th>\n",
              "      <td>28</td>\n",
              "      <td>1</td>\n",
              "      <td>1</td>\n",
              "      <td>20170112230622262.jpg.chip.jpg</td>\n",
              "      <td>172 128 88 91 96 103 109 112 119 124 129 129 1...</td>\n",
              "    </tr>\n",
              "    <tr>\n",
              "      <th>14636</th>\n",
              "      <td>37</td>\n",
              "      <td>0</td>\n",
              "      <td>0</td>\n",
              "      <td>20170120221604091.jpg.chip.jpg</td>\n",
              "      <td>117 117 115 118 112 98 64 41 31 33 49 58 59 42...</td>\n",
              "    </tr>\n",
              "  </tbody>\n",
              "</table>\n",
              "</div>"
            ],
            "text/plain": [
              "       age  ethnicity  gender                        img_name  \\\n",
              "8229    26          3       0  20170117154558934.jpg.chip.jpg   \n",
              "18644   52          0       0  20170104212249957.jpg.chip.jpg   \n",
              "16251   41          1       0  20170117140422547.jpg.chip.jpg   \n",
              "9735    28          1       1  20170112230622262.jpg.chip.jpg   \n",
              "14636   37          0       0  20170120221604091.jpg.chip.jpg   \n",
              "\n",
              "                                                  pixels  \n",
              "8229   165 166 167 171 173 62 5 9 42 82 87 93 96 108 ...  \n",
              "18644  49 54 88 88 118 148 165 164 168 175 176 181 18...  \n",
              "16251  20 30 35 45 51 57 58 55 57 59 62 64 72 80 85 9...  \n",
              "9735   172 128 88 91 96 103 109 112 119 124 129 129 1...  \n",
              "14636  117 117 115 118 112 98 64 41 31 33 49 58 59 42...  "
            ]
          },
          "execution_count": 5,
          "metadata": {},
          "output_type": "execute_result"
        }
      ],
      "source": [
        "df.sample(5)"
      ]
    },
    {
      "cell_type": "markdown",
      "metadata": {},
      "source": [
        "## Preliminary Data Exploration"
      ]
    },
    {
      "cell_type": "markdown",
      "metadata": {},
      "source": [
        "### Analyzing the Data"
      ]
    },
    {
      "cell_type": "code",
      "execution_count": 6,
      "metadata": {},
      "outputs": [
        {
          "data": {
            "text/plain": [
              "(23705, 5)"
            ]
          },
          "execution_count": 6,
          "metadata": {},
          "output_type": "execute_result"
        }
      ],
      "source": [
        "df.shape"
      ]
    },
    {
      "cell_type": "code",
      "execution_count": 7,
      "metadata": {},
      "outputs": [
        {
          "data": {
            "text/plain": [
              "Index(['age', 'ethnicity', 'gender', 'img_name', 'pixels'], dtype='object')"
            ]
          },
          "execution_count": 7,
          "metadata": {},
          "output_type": "execute_result"
        }
      ],
      "source": [
        "df.columns"
      ]
    },
    {
      "cell_type": "code",
      "execution_count": 8,
      "metadata": {},
      "outputs": [
        {
          "data": {
            "text/plain": [
              "age          0\n",
              "ethnicity    0\n",
              "gender       0\n",
              "img_name     0\n",
              "pixels       0\n",
              "dtype: int64"
            ]
          },
          "execution_count": 8,
          "metadata": {},
          "output_type": "execute_result"
        }
      ],
      "source": [
        "df.isna().sum()"
      ]
    },
    {
      "cell_type": "code",
      "execution_count": 9,
      "metadata": {},
      "outputs": [
        {
          "data": {
            "text/html": [
              "<div>\n",
              "<style scoped>\n",
              "    .dataframe tbody tr th:only-of-type {\n",
              "        vertical-align: middle;\n",
              "    }\n",
              "\n",
              "    .dataframe tbody tr th {\n",
              "        vertical-align: top;\n",
              "    }\n",
              "\n",
              "    .dataframe thead th {\n",
              "        text-align: right;\n",
              "    }\n",
              "</style>\n",
              "<table border=\"1\" class=\"dataframe\">\n",
              "  <thead>\n",
              "    <tr style=\"text-align: right;\">\n",
              "      <th></th>\n",
              "      <th>age</th>\n",
              "      <th>ethnicity</th>\n",
              "      <th>gender</th>\n",
              "    </tr>\n",
              "  </thead>\n",
              "  <tbody>\n",
              "    <tr>\n",
              "      <th>count</th>\n",
              "      <td>23,705.00</td>\n",
              "      <td>23,705.00</td>\n",
              "      <td>23,705.00</td>\n",
              "    </tr>\n",
              "    <tr>\n",
              "      <th>mean</th>\n",
              "      <td>33.30</td>\n",
              "      <td>1.27</td>\n",
              "      <td>0.48</td>\n",
              "    </tr>\n",
              "    <tr>\n",
              "      <th>std</th>\n",
              "      <td>19.89</td>\n",
              "      <td>1.35</td>\n",
              "      <td>0.50</td>\n",
              "    </tr>\n",
              "    <tr>\n",
              "      <th>min</th>\n",
              "      <td>1.00</td>\n",
              "      <td>0.00</td>\n",
              "      <td>0.00</td>\n",
              "    </tr>\n",
              "    <tr>\n",
              "      <th>25%</th>\n",
              "      <td>23.00</td>\n",
              "      <td>0.00</td>\n",
              "      <td>0.00</td>\n",
              "    </tr>\n",
              "    <tr>\n",
              "      <th>50%</th>\n",
              "      <td>29.00</td>\n",
              "      <td>1.00</td>\n",
              "      <td>0.00</td>\n",
              "    </tr>\n",
              "    <tr>\n",
              "      <th>75%</th>\n",
              "      <td>45.00</td>\n",
              "      <td>2.00</td>\n",
              "      <td>1.00</td>\n",
              "    </tr>\n",
              "    <tr>\n",
              "      <th>max</th>\n",
              "      <td>116.00</td>\n",
              "      <td>4.00</td>\n",
              "      <td>1.00</td>\n",
              "    </tr>\n",
              "  </tbody>\n",
              "</table>\n",
              "</div>"
            ],
            "text/plain": [
              "            age  ethnicity    gender\n",
              "count 23,705.00  23,705.00 23,705.00\n",
              "mean      33.30       1.27      0.48\n",
              "std       19.89       1.35      0.50\n",
              "min        1.00       0.00      0.00\n",
              "25%       23.00       0.00      0.00\n",
              "50%       29.00       1.00      0.00\n",
              "75%       45.00       2.00      1.00\n",
              "max      116.00       4.00      1.00"
            ]
          },
          "execution_count": 9,
          "metadata": {},
          "output_type": "execute_result"
        }
      ],
      "source": [
        "df.describe()"
      ]
    },
    {
      "cell_type": "code",
      "execution_count": 10,
      "metadata": {},
      "outputs": [
        {
          "name": "stdout",
          "output_type": "stream",
          "text": [
            "<class 'pandas.core.frame.DataFrame'>\n",
            "RangeIndex: 23705 entries, 0 to 23704\n",
            "Data columns (total 5 columns):\n",
            " #   Column     Non-Null Count  Dtype \n",
            "---  ------     --------------  ----- \n",
            " 0   age        23705 non-null  int64 \n",
            " 1   ethnicity  23705 non-null  int64 \n",
            " 2   gender     23705 non-null  int64 \n",
            " 3   img_name   23705 non-null  object\n",
            " 4   pixels     23705 non-null  object\n",
            "dtypes: int64(3), object(2)\n",
            "memory usage: 926.1+ KB\n"
          ]
        }
      ],
      "source": [
        "df.info()"
      ]
    },
    {
      "cell_type": "markdown",
      "metadata": {},
      "source": [
        "### Visualizing the Ages"
      ]
    },
    {
      "cell_type": "code",
      "execution_count": 11,
      "metadata": {},
      "outputs": [
        {
          "data": {
            "image/png": "[encoded data removed]",
            "text/plain": [
              "<Figure size 2000x1000 with 1 Axes>"
            ]
          },
          "metadata": {},
          "output_type": "display_data"
        }
      ],
      "source": [
        "age_distribution = df['age'].value_counts()\n",
        "\n",
        "plt.figure(figsize=(20, 10))\n",
        "plt.bar(age_distribution.index, age_distribution.values)\n",
        "plt.title(\"Distribution of Ages\", fontsize=24)\n",
        "\n",
        "for i, count in enumerate(age_distribution.values):\n",
        "    plt.text(age_distribution.index[i], count + 10, str(count), ha='center', va='bottom', rotation=90)\n",
        "\n",
        "plt.xticks(range(0, 121), rotation=90)\n",
        "plt.xlabel('Age', fontsize=16)\n",
        "plt.ylabel('Count', fontsize=16)\n",
        "\n",
        "plt.show()"
      ]
    },
    {
      "cell_type": "markdown",
      "metadata": {},
      "source": [
        "## Data Preprocessing"
      ]
    },
    {
      "cell_type": "markdown",
      "metadata": {},
      "source": [
        "### Binning of the Ages"
      ]
    },
    {
      "cell_type": "code",
      "execution_count": 12,
      "metadata": {},
      "outputs": [],
      "source": [
        "age_bins = [0, 5, 18, 30, 45, 64, 120]\n",
        "age_labels = [0, 1, 2, 3, 4, 5]\n",
        "\n",
        "df['age_group'] = pd.cut(df['age'], bins=age_bins, labels=age_labels, right=False)"
      ]
    },
    {
      "cell_type": "code",
      "execution_count": 13,
      "metadata": {},
      "outputs": [],
      "source": [
        "age_group_map = ['0 - 5', '6 - 18', '19 - 30', '31 - 45', '46 - 64', '65+']"
      ]
    },
    {
      "cell_type": "code",
      "execution_count": 14,
      "metadata": {},
      "outputs": [
        {
          "data": {
            "text/html": [
              "<div>\n",
              "<style scoped>\n",
              "    .dataframe tbody tr th:only-of-type {\n",
              "        vertical-align: middle;\n",
              "    }\n",
              "\n",
              "    .dataframe tbody tr th {\n",
              "        vertical-align: top;\n",
              "    }\n",
              "\n",
              "    .dataframe thead th {\n",
              "        text-align: right;\n",
              "    }\n",
              "</style>\n",
              "<table border=\"1\" class=\"dataframe\">\n",
              "  <thead>\n",
              "    <tr style=\"text-align: right;\">\n",
              "      <th></th>\n",
              "      <th>age</th>\n",
              "      <th>ethnicity</th>\n",
              "      <th>gender</th>\n",
              "      <th>img_name</th>\n",
              "      <th>pixels</th>\n",
              "      <th>age_group</th>\n",
              "    </tr>\n",
              "  </thead>\n",
              "  <tbody>\n",
              "    <tr>\n",
              "      <th>13144</th>\n",
              "      <td>35</td>\n",
              "      <td>1</td>\n",
              "      <td>1</td>\n",
              "      <td>20170113001239705.jpg.chip.jpg</td>\n",
              "      <td>70 69 73 68 72 75 82 87 83 80 84 121 154 170 1...</td>\n",
              "      <td>3</td>\n",
              "    </tr>\n",
              "    <tr>\n",
              "      <th>15847</th>\n",
              "      <td>40</td>\n",
              "      <td>1</td>\n",
              "      <td>0</td>\n",
              "      <td>20170117135308283.jpg.chip.jpg</td>\n",
              "      <td>136 43 43 40 32 33 68 103 118 131 154 172 182 ...</td>\n",
              "      <td>3</td>\n",
              "    </tr>\n",
              "    <tr>\n",
              "      <th>18647</th>\n",
              "      <td>52</td>\n",
              "      <td>0</td>\n",
              "      <td>0</td>\n",
              "      <td>20170104212238236.jpg.chip.jpg</td>\n",
              "      <td>239 243 243 245 246 240 232 223 214 213 213 21...</td>\n",
              "      <td>4</td>\n",
              "    </tr>\n",
              "    <tr>\n",
              "      <th>23326</th>\n",
              "      <td>87</td>\n",
              "      <td>0</td>\n",
              "      <td>1</td>\n",
              "      <td>20170110181045529.jpg.chip.jpg</td>\n",
              "      <td>143 151 163 189 191 192 189 185 170 163 163 17...</td>\n",
              "      <td>5</td>\n",
              "    </tr>\n",
              "    <tr>\n",
              "      <th>21491</th>\n",
              "      <td>66</td>\n",
              "      <td>0</td>\n",
              "      <td>0</td>\n",
              "      <td>20170104213607429.jpg.chip.jpg</td>\n",
              "      <td>78 83 88 95 173 170 164 161 176 170 172 180 17...</td>\n",
              "      <td>5</td>\n",
              "    </tr>\n",
              "  </tbody>\n",
              "</table>\n",
              "</div>"
            ],
            "text/plain": [
              "       age  ethnicity  gender                        img_name  \\\n",
              "13144   35          1       1  20170113001239705.jpg.chip.jpg   \n",
              "15847   40          1       0  20170117135308283.jpg.chip.jpg   \n",
              "18647   52          0       0  20170104212238236.jpg.chip.jpg   \n",
              "23326   87          0       1  20170110181045529.jpg.chip.jpg   \n",
              "21491   66          0       0  20170104213607429.jpg.chip.jpg   \n",
              "\n",
              "                                                  pixels age_group  \n",
              "13144  70 69 73 68 72 75 82 87 83 80 84 121 154 170 1...         3  \n",
              "15847  136 43 43 40 32 33 68 103 118 131 154 172 182 ...         3  \n",
              "18647  239 243 243 245 246 240 232 223 214 213 213 21...         4  \n",
              "23326  143 151 163 189 191 192 189 185 170 163 163 17...         5  \n",
              "21491  78 83 88 95 173 170 164 161 176 170 172 180 17...         5  "
            ]
          },
          "execution_count": 14,
          "metadata": {},
          "output_type": "execute_result"
        }
      ],
      "source": [
        "df.sample(5)"
      ]
    },
    {
      "cell_type": "code",
      "execution_count": 15,
      "metadata": {},
      "outputs": [
        {
          "data": {
            "text/plain": [
              "[0, 1, 5, 2, 3, 4]\n",
              "Categories (6, int64): [0 < 1 < 2 < 3 < 4 < 5]"
            ]
          },
          "execution_count": 15,
          "metadata": {},
          "output_type": "execute_result"
        }
      ],
      "source": [
        "df['age_group'].unique()"
      ]
    },
    {
      "cell_type": "markdown",
      "metadata": {},
      "source": [
        "### Visualizing the Age Ranges"
      ]
    },
    {
      "cell_type": "code",
      "execution_count": 16,
      "metadata": {},
      "outputs": [
        {
          "data": {
            "image/png": "[encoded data removed]",
            "text/plain": [
              "<Figure size 2000x1000 with 1 Axes>"
            ]
          },
          "metadata": {},
          "output_type": "display_data"
        }
      ],
      "source": [
        "age_group_distribution = df['age_group'].value_counts().sort_index()\n",
        "\n",
        "plt.figure(figsize=(20, 10))\n",
        "plt.bar(age_group_distribution.index, age_group_distribution.values)\n",
        "plt.title(\"Distribution of Age Ranges\", fontsize=24)\n",
        "\n",
        "for i, count in enumerate(age_group_distribution.values):\n",
        "    plt.text(age_group_distribution.index[i], count + 10, str(count), ha='center', va='bottom')\n",
        "\n",
        "plt.xticks(age_group_distribution.index)\n",
        "plt.xlabel('Age Group', fontsize=16)\n",
        "plt.ylabel('Count', fontsize=16)\n",
        "\n",
        "plt.show()"
      ]
    },
    {
      "cell_type": "markdown",
      "metadata": {},
      "source": [
        "### Reshaping the Pixels Column"
      ]
    },
    {
      "cell_type": "code",
      "execution_count": 17,
      "metadata": {},
      "outputs": [
        {
          "data": {
            "text/plain": [
              "array([129., 128., 128., ..., 146., 146., 146.], dtype=float32)"
            ]
          },
          "execution_count": 17,
          "metadata": {},
          "output_type": "execute_result"
        }
      ],
      "source": [
        "df['pixels'] = df['pixels'].apply(lambda x:  np.array(x.split(), dtype='float32'))\n",
        "\n",
        "df['pixels'][0]"
      ]
    },
    {
      "cell_type": "code",
      "execution_count": 18,
      "metadata": {},
      "outputs": [
        {
          "data": {
            "text/plain": [
              "(23705, 2304)"
            ]
          },
          "execution_count": 18,
          "metadata": {},
          "output_type": "execute_result"
        }
      ],
      "source": [
        "X = np.array(df['pixels'].tolist())\n",
        "\n",
        "X.shape"
      ]
    },
    {
      "cell_type": "code",
      "execution_count": 19,
      "metadata": {},
      "outputs": [
        {
          "data": {
            "text/plain": [
              "(48, 48, 1)"
            ]
          },
          "execution_count": 19,
          "metadata": {},
          "output_type": "execute_result"
        }
      ],
      "source": [
        "X = X.reshape(-1, 48, 48, 1) # The images are 48x48 mono\n",
        "\n",
        "X[0].shape"
      ]
    },
    {
      "cell_type": "code",
      "execution_count": 20,
      "metadata": {},
      "outputs": [
        {
          "data": {
            "image/png": "[encoded data removed]",
            "text/plain": [
              "<Figure size 640x480 with 1 Axes>"
            ]
          },
          "metadata": {},
          "output_type": "display_data"
        }
      ],
      "source": [
        "plt.imshow(X[0], cmap='gray')\n",
        "plt.xlabel(f\"Age: {age_group_map[df['age_group'][0]]}\")\n",
        "\n",
        "plt.xticks([])\n",
        "plt.yticks([])\n",
        "plt.grid(False)"
      ]
    },
    {
      "cell_type": "markdown",
      "metadata": {},
      "source": [
        "### Training and Test Split"
      ]
    },
    {
      "cell_type": "code",
      "execution_count": 21,
      "metadata": {},
      "outputs": [],
      "source": [
        "X = X / 255.0 # Normalizing the inputs\n",
        "y = tf.keras.utils.to_categorical(np.array(df['age_group']), num_classes=6)\n",
        "\n",
        "X_train, X_test, y_train, y_test = train_test_split(X, y, test_size=0.2, random_state=27)"
      ]
    },
    {
      "cell_type": "markdown",
      "metadata": {},
      "source": [
        "## Model Architecture"
      ]
    },
    {
      "cell_type": "markdown",
      "metadata": {},
      "source": [
        "### Initializing the Model"
      ]
    },
    {
      "cell_type": "code",
      "execution_count": 22,
      "metadata": {},
      "outputs": [],
      "source": [
        "age_detection_model = tf.keras.models.Sequential()"
      ]
    },
    {
      "cell_type": "markdown",
      "metadata": {},
      "source": [
        "### Building the Model"
      ]
    },
    {
      "cell_type": "code",
      "execution_count": 23,
      "metadata": {},
      "outputs": [],
      "source": [
        "age_detection_model.add(tf.keras.layers.Conv2D(filters=32, kernel_size=3, activation='relu', input_shape=(48, 48, 1)))\n",
        "age_detection_model.add(tf.keras.layers.MaxPool2D(pool_size=2, strides=2))\n",
        "age_detection_model.add(tf.keras.layers.Dropout(0.2))\n",
        "\n",
        "age_detection_model.add(tf.keras.layers.Conv2D(filters=64, kernel_size=3, activation='relu'))\n",
        "age_detection_model.add(tf.keras.layers.MaxPool2D(pool_size=2, strides=2))\n",
        "age_detection_model.add(tf.keras.layers.Dropout(0.2))\n",
        "\n",
        "\n",
        "age_detection_model.add(tf.keras.layers.Conv2D(filters=128, kernel_size=3, activation='relu'))\n",
        "age_detection_model.add(tf.keras.layers.MaxPool2D(pool_size=2, strides=2))\n",
        "age_detection_model.add(tf.keras.layers.Dropout(0.2))\n",
        "\n",
        "\n",
        "age_detection_model.add(tf.keras.layers.Flatten())\n",
        "\n",
        "age_detection_model.add(tf.keras.layers.Dense(units=256, activation='relu'))\n",
        "age_detection_model.add(tf.keras.layers.Dropout(0.5))\n",
        "\n",
        "age_detection_model.add(tf.keras.layers.Dense(units=6, activation='softmax'))"
      ]
    },
    {
      "cell_type": "markdown",
      "metadata": {},
      "source": [
        "### Compiling the Model"
      ]
    },
    {
      "cell_type": "code",
      "execution_count": 24,
      "metadata": {},
      "outputs": [],
      "source": [
        "age_detection_model.compile(optimizer='adam', loss='categorical_crossentropy', metrics=['accuracy'])"
      ]
    },
    {
      "cell_type": "markdown",
      "metadata": {},
      "source": [
        "### Training the Model"
      ]
    },
    {
      "cell_type": "code",
      "execution_count": 25,
      "metadata": {},
      "outputs": [],
      "source": [
        "early_stopping = tf.keras.callbacks.EarlyStopping(patience=20, min_delta=0.001,restore_best_weights=True)\n",
        "\n",
        "learning_rate_reduction = tf.keras.callbacks.ReduceLROnPlateau(monitor='val_accuracy', patience=3, verbose=1, factor=0.3, min_lr=0.00001)"
      ]
    },
    {
      "cell_type": "code",
      "execution_count": 26,
      "metadata": {},
      "outputs": [
        {
          "name": "stdout",
          "output_type": "stream",
          "text": [
            "Epoch 1/100\n",
            "1186/1186 [==============================] - 15s 11ms/step - loss: 1.3891 - accuracy: 0.4144 - val_loss: 1.1618 - val_accuracy: 0.5163 - lr: 0.0010\n",
            "Epoch 2/100\n",
            "1186/1186 [==============================] - 13s 11ms/step - loss: 1.1463 - accuracy: 0.5128 - val_loss: 1.0380 - val_accuracy: 0.5670 - lr: 0.0010\n",
            "Epoch 3/100\n",
            "1186/1186 [==============================] - 13s 11ms/step - loss: 1.0724 - accuracy: 0.5374 - val_loss: 0.9681 - val_accuracy: 0.5897 - lr: 0.0010\n",
            "Epoch 4/100\n",
            "1186/1186 [==============================] - 13s 11ms/step - loss: 1.0183 - accuracy: 0.5628 - val_loss: 0.9691 - val_accuracy: 0.5969 - lr: 0.0010\n",
            "Epoch 5/100\n",
            "1186/1186 [==============================] - 13s 11ms/step - loss: 0.9922 - accuracy: 0.5704 - val_loss: 0.9121 - val_accuracy: 0.6011 - lr: 0.0010\n",
            "Epoch 6/100\n",
            "1186/1186 [==============================] - 13s 11ms/step - loss: 0.9638 - accuracy: 0.5830 - val_loss: 0.8987 - val_accuracy: 0.6125 - lr: 0.0010\n",
            "Epoch 7/100\n",
            "1186/1186 [==============================] - 13s 11ms/step - loss: 0.9434 - accuracy: 0.5928 - val_loss: 0.8954 - val_accuracy: 0.6130 - lr: 0.0010\n",
            "Epoch 8/100\n",
            "1186/1186 [==============================] - 13s 11ms/step - loss: 0.9327 - accuracy: 0.5932 - val_loss: 0.8791 - val_accuracy: 0.6222 - lr: 0.0010\n",
            "Epoch 9/100\n",
            "1186/1186 [==============================] - 13s 11ms/step - loss: 0.9127 - accuracy: 0.6087 - val_loss: 0.8739 - val_accuracy: 0.6176 - lr: 0.0010\n",
            "Epoch 10/100\n",
            "1186/1186 [==============================] - 13s 11ms/step - loss: 0.9043 - accuracy: 0.6097 - val_loss: 0.8653 - val_accuracy: 0.6144 - lr: 0.0010\n",
            "Epoch 11/100\n",
            "1186/1186 [==============================] - 13s 11ms/step - loss: 0.8919 - accuracy: 0.6111 - val_loss: 0.8581 - val_accuracy: 0.6292 - lr: 0.0010\n",
            "Epoch 12/100\n",
            "1186/1186 [==============================] - 13s 11ms/step - loss: 0.8826 - accuracy: 0.6173 - val_loss: 0.8556 - val_accuracy: 0.6381 - lr: 0.0010\n",
            "Epoch 13/100\n",
            "1186/1186 [==============================] - 13s 11ms/step - loss: 0.8688 - accuracy: 0.6260 - val_loss: 0.8559 - val_accuracy: 0.6269 - lr: 0.0010\n",
            "Epoch 14/100\n",
            "1186/1186 [==============================] - 14s 11ms/step - loss: 0.8656 - accuracy: 0.6258 - val_loss: 0.8684 - val_accuracy: 0.6205 - lr: 0.0010\n",
            "Epoch 15/100\n",
            "1185/1186 [============================>.] - ETA: 0s - loss: 0.8622 - accuracy: 0.6247\n",
            "Epoch 15: ReduceLROnPlateau reducing learning rate to 0.0003000000142492354.\n",
            "1186/1186 [==============================] - 13s 11ms/step - loss: 0.8622 - accuracy: 0.6248 - val_loss: 0.8507 - val_accuracy: 0.6309 - lr: 0.0010\n",
            "Epoch 16/100\n",
            "1186/1186 [==============================] - 13s 11ms/step - loss: 0.8041 - accuracy: 0.6505 - val_loss: 0.8302 - val_accuracy: 0.6370 - lr: 3.0000e-04\n",
            "Epoch 17/100\n",
            "1186/1186 [==============================] - 13s 11ms/step - loss: 0.7845 - accuracy: 0.6597 - val_loss: 0.8286 - val_accuracy: 0.6408 - lr: 3.0000e-04\n",
            "Epoch 18/100\n",
            "1186/1186 [==============================] - 12s 11ms/step - loss: 0.7775 - accuracy: 0.6616 - val_loss: 0.8255 - val_accuracy: 0.6431 - lr: 3.0000e-04\n",
            "Epoch 19/100\n",
            "1186/1186 [==============================] - 13s 11ms/step - loss: 0.7719 - accuracy: 0.6660 - val_loss: 0.8192 - val_accuracy: 0.6450 - lr: 3.0000e-04\n",
            "Epoch 20/100\n",
            "1186/1186 [==============================] - 13s 11ms/step - loss: 0.7619 - accuracy: 0.6679 - val_loss: 0.8151 - val_accuracy: 0.6488 - lr: 3.0000e-04\n",
            "Epoch 21/100\n",
            "1186/1186 [==============================] - 13s 11ms/step - loss: 0.7514 - accuracy: 0.6733 - val_loss: 0.8154 - val_accuracy: 0.6499 - lr: 3.0000e-04\n",
            "Epoch 22/100\n",
            "1186/1186 [==============================] - 13s 11ms/step - loss: 0.7561 - accuracy: 0.6713 - val_loss: 0.8194 - val_accuracy: 0.6494 - lr: 3.0000e-04\n",
            "Epoch 23/100\n",
            "1186/1186 [==============================] - 13s 11ms/step - loss: 0.7497 - accuracy: 0.6743 - val_loss: 0.8139 - val_accuracy: 0.6494 - lr: 3.0000e-04\n",
            "Epoch 24/100\n",
            "1186/1186 [==============================] - 13s 11ms/step - loss: 0.7404 - accuracy: 0.6734 - val_loss: 0.8206 - val_accuracy: 0.6501 - lr: 3.0000e-04\n",
            "Epoch 25/100\n",
            "1186/1186 [==============================] - 12s 10ms/step - loss: 0.7372 - accuracy: 0.6801 - val_loss: 0.8289 - val_accuracy: 0.6492 - lr: 3.0000e-04\n",
            "Epoch 26/100\n",
            "1186/1186 [==============================] - 13s 11ms/step - loss: 0.7328 - accuracy: 0.6846 - val_loss: 0.8254 - val_accuracy: 0.6499 - lr: 3.0000e-04\n",
            "Epoch 27/100\n",
            "1181/1186 [============================>.] - ETA: 0s - loss: 0.7257 - accuracy: 0.6820\n",
            "Epoch 27: ReduceLROnPlateau reducing learning rate to 9.000000427477062e-05.\n",
            "1186/1186 [==============================] - 13s 11ms/step - loss: 0.7261 - accuracy: 0.6818 - val_loss: 0.8276 - val_accuracy: 0.6490 - lr: 3.0000e-04\n",
            "Epoch 28/100\n",
            "1186/1186 [==============================] - 13s 11ms/step - loss: 0.7040 - accuracy: 0.6907 - val_loss: 0.8083 - val_accuracy: 0.6492 - lr: 9.0000e-05\n",
            "Epoch 29/100\n",
            "1186/1186 [==============================] - 13s 11ms/step - loss: 0.6975 - accuracy: 0.6945 - val_loss: 0.8119 - val_accuracy: 0.6518 - lr: 9.0000e-05\n",
            "Epoch 30/100\n",
            "1186/1186 [==============================] - 13s 11ms/step - loss: 0.7009 - accuracy: 0.6937 - val_loss: 0.8057 - val_accuracy: 0.6518 - lr: 9.0000e-05\n",
            "Epoch 31/100\n",
            "1186/1186 [==============================] - 13s 11ms/step - loss: 0.6965 - accuracy: 0.6968 - val_loss: 0.8068 - val_accuracy: 0.6522 - lr: 9.0000e-05\n",
            "Epoch 32/100\n",
            "1186/1186 [==============================] - 13s 11ms/step - loss: 0.6991 - accuracy: 0.6916 - val_loss: 0.8083 - val_accuracy: 0.6526 - lr: 9.0000e-05\n",
            "Epoch 33/100\n",
            "1186/1186 [==============================] - 13s 11ms/step - loss: 0.6968 - accuracy: 0.6984 - val_loss: 0.8062 - val_accuracy: 0.6524 - lr: 9.0000e-05\n",
            "Epoch 34/100\n",
            "1186/1186 [==============================] - 12s 11ms/step - loss: 0.6929 - accuracy: 0.6993 - val_loss: 0.8076 - val_accuracy: 0.6539 - lr: 9.0000e-05\n",
            "Epoch 35/100\n",
            "1186/1186 [==============================] - 13s 11ms/step - loss: 0.6806 - accuracy: 0.7018 - val_loss: 0.8074 - val_accuracy: 0.6537 - lr: 9.0000e-05\n",
            "Epoch 36/100\n",
            "1186/1186 [==============================] - 13s 11ms/step - loss: 0.6888 - accuracy: 0.6992 - val_loss: 0.8157 - val_accuracy: 0.6520 - lr: 9.0000e-05\n",
            "Epoch 37/100\n",
            "1186/1186 [==============================] - ETA: 0s - loss: 0.6872 - accuracy: 0.6986\n",
            "Epoch 37: ReduceLROnPlateau reducing learning rate to 2.700000040931627e-05.\n",
            "1186/1186 [==============================] - 13s 11ms/step - loss: 0.6872 - accuracy: 0.6986 - val_loss: 0.8136 - val_accuracy: 0.6524 - lr: 9.0000e-05\n",
            "Epoch 38/100\n",
            "1186/1186 [==============================] - 13s 11ms/step - loss: 0.6739 - accuracy: 0.7084 - val_loss: 0.8080 - val_accuracy: 0.6537 - lr: 2.7000e-05\n",
            "Epoch 39/100\n",
            "1186/1186 [==============================] - 13s 11ms/step - loss: 0.6809 - accuracy: 0.7042 - val_loss: 0.8094 - val_accuracy: 0.6520 - lr: 2.7000e-05\n",
            "Epoch 40/100\n",
            "1186/1186 [==============================] - 13s 11ms/step - loss: 0.6767 - accuracy: 0.7065 - val_loss: 0.8087 - val_accuracy: 0.6547 - lr: 2.7000e-05\n",
            "Epoch 41/100\n",
            "1186/1186 [==============================] - 17s 15ms/step - loss: 0.6794 - accuracy: 0.7053 - val_loss: 0.8078 - val_accuracy: 0.6543 - lr: 2.7000e-05\n",
            "Epoch 42/100\n",
            "1186/1186 [==============================] - 32s 27ms/step - loss: 0.6726 - accuracy: 0.7061 - val_loss: 0.8072 - val_accuracy: 0.6537 - lr: 2.7000e-05\n",
            "Epoch 43/100\n",
            "1186/1186 [==============================] - 31s 27ms/step - loss: 0.6782 - accuracy: 0.6982 - val_loss: 0.8065 - val_accuracy: 0.6553 - lr: 2.7000e-05\n",
            "Epoch 44/100\n",
            "1186/1186 [==============================] - 32s 27ms/step - loss: 0.6787 - accuracy: 0.7018 - val_loss: 0.8058 - val_accuracy: 0.6537 - lr: 2.7000e-05\n",
            "Epoch 45/100\n",
            "1186/1186 [==============================] - 12s 10ms/step - loss: 0.6787 - accuracy: 0.7062 - val_loss: 0.8063 - val_accuracy: 0.6568 - lr: 2.7000e-05\n",
            "Epoch 46/100\n",
            "1186/1186 [==============================] - 13s 11ms/step - loss: 0.6674 - accuracy: 0.7057 - val_loss: 0.8049 - val_accuracy: 0.6551 - lr: 2.7000e-05\n",
            "Epoch 47/100\n",
            "1186/1186 [==============================] - 13s 11ms/step - loss: 0.6673 - accuracy: 0.7070 - val_loss: 0.8132 - val_accuracy: 0.6528 - lr: 2.7000e-05\n",
            "Epoch 48/100\n",
            "1184/1186 [============================>.] - ETA: 0s - loss: 0.6687 - accuracy: 0.7118\n",
            "Epoch 48: ReduceLROnPlateau reducing learning rate to 1e-05.\n",
            "1186/1186 [==============================] - 14s 12ms/step - loss: 0.6686 - accuracy: 0.7117 - val_loss: 0.8078 - val_accuracy: 0.6528 - lr: 2.7000e-05\n",
            "Epoch 49/100\n",
            "1186/1186 [==============================] - 13s 11ms/step - loss: 0.6709 - accuracy: 0.7049 - val_loss: 0.8095 - val_accuracy: 0.6541 - lr: 1.0000e-05\n",
            "Epoch 50/100\n",
            "1186/1186 [==============================] - 13s 11ms/step - loss: 0.6705 - accuracy: 0.7086 - val_loss: 0.8089 - val_accuracy: 0.6526 - lr: 1.0000e-05\n"
          ]
        },
        {
          "data": {
            "text/plain": [
              "<keras.src.callbacks.History at 0x1ad0a36a5d0>"
            ]
          },
          "execution_count": 26,
          "metadata": {},
          "output_type": "execute_result"
        }
      ],
      "source": [
        "age_detection_model.fit(X_train, y_train, batch_size=16, validation_data=(X_test, y_test), epochs=100, callbacks= [early_stopping, learning_rate_reduction])"
      ]
    },
    {
      "cell_type": "markdown",
      "metadata": {},
      "source": [
        "### Saving the model"
      ]
    },
    {
      "cell_type": "code",
      "execution_count": 27,
      "metadata": {},
      "outputs": [
        {
          "name": "stdout",
          "output_type": "stream",
          "text": [
            "INFO:tensorflow:Assets written to: ./age_model\\assets\n"
          ]
        },
        {
          "name": "stderr",
          "output_type": "stream",
          "text": [
            "INFO:tensorflow:Assets written to: ./age_model\\assets\n"
          ]
        }
      ],
      "source": [
        "age_detection_model.save(\"./age_model\")"
      ]
    },
    {
      "cell_type": "markdown",
      "metadata": {},
      "source": [
        "## Analysis"
      ]
    },
    {
      "cell_type": "markdown",
      "metadata": {},
      "source": [
        "### Performance"
      ]
    },
    {
      "cell_type": "code",
      "execution_count": 28,
      "metadata": {},
      "outputs": [
        {
          "name": "stdout",
          "output_type": "stream",
          "text": [
            "Test loss: 0.8057082891464233\n",
            "Test Accuracy: 0.6517612338066101\n"
          ]
        }
      ],
      "source": [
        "loss, acc = age_detection_model.evaluate(X_test, y_test, verbose=0)\n",
        "print(f'Test loss: {loss}')\n",
        "print(f'Test Accuracy: {acc}')"
      ]
    },
    {
      "cell_type": "markdown",
      "metadata": {},
      "source": [
        "### Summary"
      ]
    },
    {
      "cell_type": "code",
      "execution_count": 29,
      "metadata": {},
      "outputs": [
        {
          "name": "stdout",
          "output_type": "stream",
          "text": [
            "Model: \"sequential_20\"\n",
            "_________________________________________________________________\n",
            " Layer (type)                Output Shape              Param #   \n",
            "=================================================================\n",
            " conv2d_57 (Conv2D)          (None, 46, 46, 32)        320       \n",
            "                                                                 \n",
            " max_pooling2d_55 (MaxPooli  (None, 23, 23, 32)        0         \n",
            " ng2D)                                                           \n",
            "                                                                 \n",
            " dropout_59 (Dropout)        (None, 23, 23, 32)        0         \n",
            "                                                                 \n",
            " conv2d_58 (Conv2D)          (None, 21, 21, 64)        18496     \n",
            "                                                                 \n",
            " max_pooling2d_56 (MaxPooli  (None, 10, 10, 64)        0         \n",
            " ng2D)                                                           \n",
            "                                                                 \n",
            " dropout_60 (Dropout)        (None, 10, 10, 64)        0         \n",
            "                                                                 \n",
            " conv2d_59 (Conv2D)          (None, 8, 8, 128)         73856     \n",
            "                                                                 \n",
            " max_pooling2d_57 (MaxPooli  (None, 4, 4, 128)         0         \n",
            " ng2D)                                                           \n",
            "                                                                 \n",
            " dropout_61 (Dropout)        (None, 4, 4, 128)         0         \n",
            "                                                                 \n",
            " flatten_18 (Flatten)        (None, 2048)              0         \n",
            "                                                                 \n",
            " dense_36 (Dense)            (None, 256)               524544    \n",
            "                                                                 \n",
            " dropout_62 (Dropout)        (None, 256)               0         \n",
            "                                                                 \n",
            " dense_37 (Dense)            (None, 6)                 1542      \n",
            "                                                                 \n",
            "=================================================================\n",
            "Total params: 618758 (2.36 MB)\n",
            "Trainable params: 618758 (2.36 MB)\n",
            "Non-trainable params: 0 (0.00 Byte)\n",
            "_________________________________________________________________\n"
          ]
        }
      ],
      "source": [
        "age_detection_model.summary()"
      ]
    },
    {
      "cell_type": "markdown",
      "metadata": {},
      "source": [
        "### Testing out the Model"
      ]
    },
    {
      "cell_type": "markdown",
      "metadata": {},
      "source": [
        "<p align='center'>\n",
        "    <img src='./assets/model_test_img.jpg'>\n",
        "</p>"
      ]
    },
    {
      "cell_type": "code",
      "execution_count": 30,
      "metadata": {},
      "outputs": [],
      "source": [
        "test_image = image.load_img('./assets/model_test_img.jpg',target_size=(48, 48), color_mode='grayscale')\n",
        "\n",
        "test_image = image.img_to_array(test_image)\n",
        "\n",
        "test_image = np.expand_dims(test_image, axis=0)"
      ]
    },
    {
      "cell_type": "code",
      "execution_count": 31,
      "metadata": {},
      "outputs": [
        {
          "name": "stdout",
          "output_type": "stream",
          "text": [
            "1/1 [==============================] - 0s 17ms/step\n",
            "Predicted Class: 65+\n"
          ]
        }
      ],
      "source": [
        "prediction = age_detection_model.predict(test_image / 255.0)\n",
        "\n",
        "predicted_class = np.argmax(prediction)\n",
        "\n",
        "print(\"Predicted Class:\", age_group_map[predicted_class])"
      ]
    }
  ],
  "metadata": {
    "kernelspec": {
      "display_name": ".venv",
      "language": "python",
      "name": "python3"
    },
    "language_info": {
      "codemirror_mode": {
        "name": "ipython",
        "version": 3
      },
      "file_extension": ".py",
      "mimetype": "text/x-python",
      "name": "python",
      "nbconvert_exporter": "python",
      "pygments_lexer": "ipython3",
      "version": "3.11.1"
    }
  },
  "nbformat": 4,
  "nbformat_minor": 2
}