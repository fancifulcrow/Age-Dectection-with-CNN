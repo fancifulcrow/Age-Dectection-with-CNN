{
 "cells": [
  {
   "cell_type": "markdown",
   "metadata": {},
   "source": [
    "# Age Detection"
   ]
  },
  {
   "cell_type": "markdown",
   "metadata": {},
   "source": [
    "## Setup"
   ]
  },
  {
   "cell_type": "markdown",
   "metadata": {},
   "source": [
    "### Import Statements"
   ]
  },
  {
   "cell_type": "code",
   "execution_count": 224,
   "metadata": {},
   "outputs": [],
   "source": [
    "import tensorflow as tf\n",
    "from keras.preprocessing import image\n",
    "\n",
    "import pandas as pd\n",
    "import numpy as np\n",
    "import matplotlib.pyplot as plt\n",
    "from sklearn.model_selection import train_test_split"
   ]
  },
  {
   "cell_type": "code",
   "execution_count": 225,
   "metadata": {},
   "outputs": [
    {
     "data": {
      "text/plain": [
       "'2.15.0'"
      ]
     },
     "execution_count": 225,
     "metadata": {},
     "output_type": "execute_result"
    }
   ],
   "source": [
    "tf.__version__"
   ]
  },
  {
   "cell_type": "markdown",
   "metadata": {},
   "source": [
    "### Notebook Presentation"
   ]
  },
  {
   "cell_type": "code",
   "execution_count": 226,
   "metadata": {},
   "outputs": [],
   "source": [
    "pd.options.display.float_format = '{:,.2f}'.format"
   ]
  },
  {
   "cell_type": "markdown",
   "metadata": {},
   "source": [
    "### Load the Data"
   ]
  },
  {
   "cell_type": "code",
   "execution_count": 227,
   "metadata": {},
   "outputs": [],
   "source": [
    "df = pd.read_csv(\"./dataset/age_gender.csv\")"
   ]
  },
  {
   "cell_type": "code",
   "execution_count": 228,
   "metadata": {},
   "outputs": [
    {
     "data": {
      "text/html": [
       "<div>\n",
       "<style scoped>\n",
       "    .dataframe tbody tr th:only-of-type {\n",
       "        vertical-align: middle;\n",
       "    }\n",
       "\n",
       "    .dataframe tbody tr th {\n",
       "        vertical-align: top;\n",
       "    }\n",
       "\n",
       "    .dataframe thead th {\n",
       "        text-align: right;\n",
       "    }\n",
       "</style>\n",
       "<table border=\"1\" class=\"dataframe\">\n",
       "  <thead>\n",
       "    <tr style=\"text-align: right;\">\n",
       "      <th></th>\n",
       "      <th>age</th>\n",
       "      <th>ethnicity</th>\n",
       "      <th>gender</th>\n",
       "      <th>img_name</th>\n",
       "      <th>pixels</th>\n",
       "    </tr>\n",
       "  </thead>\n",
       "  <tbody>\n",
       "    <tr>\n",
       "      <th>10932</th>\n",
       "      <td>30</td>\n",
       "      <td>3</td>\n",
       "      <td>1</td>\n",
       "      <td>20170117145238579.jpg.chip.jpg</td>\n",
       "      <td>34 26 23 22 25 47 85 134 169 185 184 186 182 1...</td>\n",
       "    </tr>\n",
       "    <tr>\n",
       "      <th>1915</th>\n",
       "      <td>15</td>\n",
       "      <td>0</td>\n",
       "      <td>0</td>\n",
       "      <td>20170120133307597.jpg.chip.jpg</td>\n",
       "      <td>125 136 150 157 158 162 165 167 168 171 175 17...</td>\n",
       "    </tr>\n",
       "    <tr>\n",
       "      <th>11158</th>\n",
       "      <td>30</td>\n",
       "      <td>2</td>\n",
       "      <td>0</td>\n",
       "      <td>20170116173409625.jpg.chip.jpg</td>\n",
       "      <td>21 24 28 32 34 38 47 52 44 64 106 123 131 69 7...</td>\n",
       "    </tr>\n",
       "    <tr>\n",
       "      <th>19059</th>\n",
       "      <td>54</td>\n",
       "      <td>0</td>\n",
       "      <td>1</td>\n",
       "      <td>20170117171505517.jpg.chip.jpg</td>\n",
       "      <td>15 17 16 16 18 29 39 45 55 65 72 83 92 103 109...</td>\n",
       "    </tr>\n",
       "    <tr>\n",
       "      <th>9557</th>\n",
       "      <td>28</td>\n",
       "      <td>0</td>\n",
       "      <td>0</td>\n",
       "      <td>20170117180529832.jpg.chip.jpg</td>\n",
       "      <td>13 17 2 0 1 59 110 184 198 202 201 201 198 194...</td>\n",
       "    </tr>\n",
       "  </tbody>\n",
       "</table>\n",
       "</div>"
      ],
      "text/plain": [
       "       age  ethnicity  gender                        img_name  \\\n",
       "10932   30          3       1  20170117145238579.jpg.chip.jpg   \n",
       "1915    15          0       0  20170120133307597.jpg.chip.jpg   \n",
       "11158   30          2       0  20170116173409625.jpg.chip.jpg   \n",
       "19059   54          0       1  20170117171505517.jpg.chip.jpg   \n",
       "9557    28          0       0  20170117180529832.jpg.chip.jpg   \n",
       "\n",
       "                                                  pixels  \n",
       "10932  34 26 23 22 25 47 85 134 169 185 184 186 182 1...  \n",
       "1915   125 136 150 157 158 162 165 167 168 171 175 17...  \n",
       "11158  21 24 28 32 34 38 47 52 44 64 106 123 131 69 7...  \n",
       "19059  15 17 16 16 18 29 39 45 55 65 72 83 92 103 109...  \n",
       "9557   13 17 2 0 1 59 110 184 198 202 201 201 198 194...  "
      ]
     },
     "execution_count": 228,
     "metadata": {},
     "output_type": "execute_result"
    }
   ],
   "source": [
    "df.sample(5)"
   ]
  },
  {
   "cell_type": "markdown",
   "metadata": {},
   "source": [
    "## Preliminary Data Exploration"
   ]
  },
  {
   "cell_type": "markdown",
   "metadata": {},
   "source": [
    "### Analyzing the Data"
   ]
  },
  {
   "cell_type": "code",
   "execution_count": 229,
   "metadata": {},
   "outputs": [
    {
     "data": {
      "text/plain": [
       "(23705, 5)"
      ]
     },
     "execution_count": 229,
     "metadata": {},
     "output_type": "execute_result"
    }
   ],
   "source": [
    "df.shape"
   ]
  },
  {
   "cell_type": "code",
   "execution_count": 230,
   "metadata": {},
   "outputs": [
    {
     "data": {
      "text/plain": [
       "Index(['age', 'ethnicity', 'gender', 'img_name', 'pixels'], dtype='object')"
      ]
     },
     "execution_count": 230,
     "metadata": {},
     "output_type": "execute_result"
    }
   ],
   "source": [
    "df.columns"
   ]
  },
  {
   "cell_type": "code",
   "execution_count": 231,
   "metadata": {},
   "outputs": [
    {
     "data": {
      "text/plain": [
       "age          0\n",
       "ethnicity    0\n",
       "gender       0\n",
       "img_name     0\n",
       "pixels       0\n",
       "dtype: int64"
      ]
     },
     "execution_count": 231,
     "metadata": {},
     "output_type": "execute_result"
    }
   ],
   "source": [
    "df.isna().sum()"
   ]
  },
  {
   "cell_type": "code",
   "execution_count": 232,
   "metadata": {},
   "outputs": [
    {
     "data": {
      "text/html": [
       "<div>\n",
       "<style scoped>\n",
       "    .dataframe tbody tr th:only-of-type {\n",
       "        vertical-align: middle;\n",
       "    }\n",
       "\n",
       "    .dataframe tbody tr th {\n",
       "        vertical-align: top;\n",
       "    }\n",
       "\n",
       "    .dataframe thead th {\n",
       "        text-align: right;\n",
       "    }\n",
       "</style>\n",
       "<table border=\"1\" class=\"dataframe\">\n",
       "  <thead>\n",
       "    <tr style=\"text-align: right;\">\n",
       "      <th></th>\n",
       "      <th>age</th>\n",
       "      <th>ethnicity</th>\n",
       "      <th>gender</th>\n",
       "    </tr>\n",
       "  </thead>\n",
       "  <tbody>\n",
       "    <tr>\n",
       "      <th>count</th>\n",
       "      <td>23,705.00</td>\n",
       "      <td>23,705.00</td>\n",
       "      <td>23,705.00</td>\n",
       "    </tr>\n",
       "    <tr>\n",
       "      <th>mean</th>\n",
       "      <td>33.30</td>\n",
       "      <td>1.27</td>\n",
       "      <td>0.48</td>\n",
       "    </tr>\n",
       "    <tr>\n",
       "      <th>std</th>\n",
       "      <td>19.89</td>\n",
       "      <td>1.35</td>\n",
       "      <td>0.50</td>\n",
       "    </tr>\n",
       "    <tr>\n",
       "      <th>min</th>\n",
       "      <td>1.00</td>\n",
       "      <td>0.00</td>\n",
       "      <td>0.00</td>\n",
       "    </tr>\n",
       "    <tr>\n",
       "      <th>25%</th>\n",
       "      <td>23.00</td>\n",
       "      <td>0.00</td>\n",
       "      <td>0.00</td>\n",
       "    </tr>\n",
       "    <tr>\n",
       "      <th>50%</th>\n",
       "      <td>29.00</td>\n",
       "      <td>1.00</td>\n",
       "      <td>0.00</td>\n",
       "    </tr>\n",
       "    <tr>\n",
       "      <th>75%</th>\n",
       "      <td>45.00</td>\n",
       "      <td>2.00</td>\n",
       "      <td>1.00</td>\n",
       "    </tr>\n",
       "    <tr>\n",
       "      <th>max</th>\n",
       "      <td>116.00</td>\n",
       "      <td>4.00</td>\n",
       "      <td>1.00</td>\n",
       "    </tr>\n",
       "  </tbody>\n",
       "</table>\n",
       "</div>"
      ],
      "text/plain": [
       "            age  ethnicity    gender\n",
       "count 23,705.00  23,705.00 23,705.00\n",
       "mean      33.30       1.27      0.48\n",
       "std       19.89       1.35      0.50\n",
       "min        1.00       0.00      0.00\n",
       "25%       23.00       0.00      0.00\n",
       "50%       29.00       1.00      0.00\n",
       "75%       45.00       2.00      1.00\n",
       "max      116.00       4.00      1.00"
      ]
     },
     "execution_count": 232,
     "metadata": {},
     "output_type": "execute_result"
    }
   ],
   "source": [
    "df.describe()"
   ]
  },
  {
   "cell_type": "code",
   "execution_count": 233,
   "metadata": {},
   "outputs": [
    {
     "name": "stdout",
     "output_type": "stream",
     "text": [
      "<class 'pandas.core.frame.DataFrame'>\n",
      "RangeIndex: 23705 entries, 0 to 23704\n",
      "Data columns (total 5 columns):\n",
      " #   Column     Non-Null Count  Dtype \n",
      "---  ------     --------------  ----- \n",
      " 0   age        23705 non-null  int64 \n",
      " 1   ethnicity  23705 non-null  int64 \n",
      " 2   gender     23705 non-null  int64 \n",
      " 3   img_name   23705 non-null  object\n",
      " 4   pixels     23705 non-null  object\n",
      "dtypes: int64(3), object(2)\n",
      "memory usage: 926.1+ KB\n"
     ]
    }
   ],
   "source": [
    "df.info()"
   ]
  },
  {
   "cell_type": "markdown",
   "metadata": {},
   "source": [
    "### Visualizing the Ages"
   ]
  },
  {
   "cell_type": "code",
   "execution_count": 234,
   "metadata": {},
   "outputs": [
    {
     "data": {
      "image/png": "[encoded data removed]",
      "text/plain": [
       "<Figure size 2000x1000 with 1 Axes>"
      ]
     },
     "metadata": {},
     "output_type": "display_data"
    }
   ],
   "source": [
    "age_distribution = df['age'].value_counts()\n",
    "\n",
    "plt.figure(figsize=(20, 10))\n",
    "plt.bar(age_distribution.index, age_distribution.values)\n",
    "plt.title(\"Distribution of Ages\", fontsize=24)\n",
    "\n",
    "for i, count in enumerate(age_distribution.values):\n",
    "    plt.text(age_distribution.index[i], count + 10, str(count), ha='center', va='bottom', rotation=90)\n",
    "\n",
    "plt.xticks(range(0, 121), rotation=90)\n",
    "plt.xlabel('Age', fontsize=16)\n",
    "plt.ylabel('Count', fontsize=16)\n",
    "\n",
    "plt.show()"
   ]
  },
  {
   "cell_type": "markdown",
   "metadata": {},
   "source": [
    "## Data Preprocessing"
   ]
  },
  {
   "cell_type": "markdown",
   "metadata": {},
   "source": [
    "### Binning of the Ages"
   ]
  },
  {
   "cell_type": "code",
   "execution_count": 235,
   "metadata": {},
   "outputs": [],
   "source": [
    "age_bins = [0, 5, 17, 25, 35, 45, 55, 64, 120]\n",
    "age_labels = [0, 1, 2, 3, 4, 5, 6, 7]\n",
    "\n",
    "df['age_group'] = pd.cut(df['age'], bins=age_bins, labels=age_labels, right=False)"
   ]
  },
  {
   "cell_type": "code",
   "execution_count": 236,
   "metadata": {},
   "outputs": [],
   "source": [
    "age_group_map = ['0 - 5', '6 - 17', '18 - 25', '26 - 35', '36 - 45', '46 - 55', '56 - 64', '65+']"
   ]
  },
  {
   "cell_type": "code",
   "execution_count": 237,
   "metadata": {},
   "outputs": [
    {
     "data": {
      "text/html": [
       "<div>\n",
       "<style scoped>\n",
       "    .dataframe tbody tr th:only-of-type {\n",
       "        vertical-align: middle;\n",
       "    }\n",
       "\n",
       "    .dataframe tbody tr th {\n",
       "        vertical-align: top;\n",
       "    }\n",
       "\n",
       "    .dataframe thead th {\n",
       "        text-align: right;\n",
       "    }\n",
       "</style>\n",
       "<table border=\"1\" class=\"dataframe\">\n",
       "  <thead>\n",
       "    <tr style=\"text-align: right;\">\n",
       "      <th></th>\n",
       "      <th>age</th>\n",
       "      <th>ethnicity</th>\n",
       "      <th>gender</th>\n",
       "      <th>img_name</th>\n",
       "      <th>pixels</th>\n",
       "      <th>age_group</th>\n",
       "    </tr>\n",
       "  </thead>\n",
       "  <tbody>\n",
       "    <tr>\n",
       "      <th>13431</th>\n",
       "      <td>35</td>\n",
       "      <td>0</td>\n",
       "      <td>0</td>\n",
       "      <td>20170117153829116.jpg.chip.jpg</td>\n",
       "      <td>28 31 38 49 69 95 116 126 129 136 143 146 148 ...</td>\n",
       "      <td>4</td>\n",
       "    </tr>\n",
       "    <tr>\n",
       "      <th>17008</th>\n",
       "      <td>45</td>\n",
       "      <td>0</td>\n",
       "      <td>0</td>\n",
       "      <td>20170117135112380.jpg.chip.jpg</td>\n",
       "      <td>101 49 31 34 46 52 79 109 117 118 127 131 134 ...</td>\n",
       "      <td>5</td>\n",
       "    </tr>\n",
       "    <tr>\n",
       "      <th>10035</th>\n",
       "      <td>29</td>\n",
       "      <td>1</td>\n",
       "      <td>0</td>\n",
       "      <td>20170116195112736.jpg.chip.jpg</td>\n",
       "      <td>72 73 73 74 76 86 94 100 100 101 101 101 103 1...</td>\n",
       "      <td>3</td>\n",
       "    </tr>\n",
       "    <tr>\n",
       "      <th>12364</th>\n",
       "      <td>32</td>\n",
       "      <td>0</td>\n",
       "      <td>1</td>\n",
       "      <td>20170104165148201.jpg.chip.jpg</td>\n",
       "      <td>187 193 177 139 148 119 103 99 100 105 136 145...</td>\n",
       "      <td>3</td>\n",
       "    </tr>\n",
       "    <tr>\n",
       "      <th>22220</th>\n",
       "      <td>73</td>\n",
       "      <td>3</td>\n",
       "      <td>0</td>\n",
       "      <td>20170119212042841.jpg.chip.jpg</td>\n",
       "      <td>156 170 183 178 161 139 120 116 119 122 141 15...</td>\n",
       "      <td>7</td>\n",
       "    </tr>\n",
       "  </tbody>\n",
       "</table>\n",
       "</div>"
      ],
      "text/plain": [
       "       age  ethnicity  gender                        img_name  \\\n",
       "13431   35          0       0  20170117153829116.jpg.chip.jpg   \n",
       "17008   45          0       0  20170117135112380.jpg.chip.jpg   \n",
       "10035   29          1       0  20170116195112736.jpg.chip.jpg   \n",
       "12364   32          0       1  20170104165148201.jpg.chip.jpg   \n",
       "22220   73          3       0  20170119212042841.jpg.chip.jpg   \n",
       "\n",
       "                                                  pixels age_group  \n",
       "13431  28 31 38 49 69 95 116 126 129 136 143 146 148 ...         4  \n",
       "17008  101 49 31 34 46 52 79 109 117 118 127 131 134 ...         5  \n",
       "10035  72 73 73 74 76 86 94 100 100 101 101 101 103 1...         3  \n",
       "12364  187 193 177 139 148 119 103 99 100 105 136 145...         3  \n",
       "22220  156 170 183 178 161 139 120 116 119 122 141 15...         7  "
      ]
     },
     "execution_count": 237,
     "metadata": {},
     "output_type": "execute_result"
    }
   ],
   "source": [
    "df.sample(5)"
   ]
  },
  {
   "cell_type": "code",
   "execution_count": 238,
   "metadata": {},
   "outputs": [
    {
     "data": {
      "text/plain": [
       "[0, 1, 7, 2, 3, 4, 5, 6]\n",
       "Categories (8, int64): [0 < 1 < 2 < 3 < 4 < 5 < 6 < 7]"
      ]
     },
     "execution_count": 238,
     "metadata": {},
     "output_type": "execute_result"
    }
   ],
   "source": [
    "df['age_group'].unique()"
   ]
  },
  {
   "cell_type": "markdown",
   "metadata": {},
   "source": [
    "### Visualizing the Age Ranges"
   ]
  },
  {
   "cell_type": "code",
   "execution_count": 239,
   "metadata": {},
   "outputs": [
    {
     "data": {
      "image/png": "[encoded data removed]",
      "text/plain": [
       "<Figure size 2000x1000 with 1 Axes>"
      ]
     },
     "metadata": {},
     "output_type": "display_data"
    }
   ],
   "source": [
    "age_group_distribution = df['age_group'].value_counts().sort_index()\n",
    "\n",
    "plt.figure(figsize=(20, 10))\n",
    "plt.bar(age_group_distribution.index, age_group_distribution.values)\n",
    "plt.title(\"Distribution of Age Ranges\", fontsize=24)\n",
    "\n",
    "for i, count in enumerate(age_group_distribution.values):\n",
    "    plt.text(age_group_distribution.index[i], count + 10, str(count), ha='center', va='bottom')\n",
    "\n",
    "plt.xticks(age_group_distribution.index)\n",
    "plt.xlabel('Age Group', fontsize=16)\n",
    "plt.ylabel('Count', fontsize=16)\n",
    "\n",
    "plt.show()"
   ]
  },
  {
   "cell_type": "markdown",
   "metadata": {},
   "source": [
    "### Reshaping the Pixels Column"
   ]
  },
  {
   "cell_type": "code",
   "execution_count": 240,
   "metadata": {},
   "outputs": [
    {
     "data": {
      "text/plain": [
       "array([129., 128., 128., ..., 146., 146., 146.], dtype=float32)"
      ]
     },
     "execution_count": 240,
     "metadata": {},
     "output_type": "execute_result"
    }
   ],
   "source": [
    "df['pixels'] = df['pixels'].apply(lambda x:  np.array(x.split(), dtype='float32'))\n",
    "\n",
    "df['pixels'][0]"
   ]
  },
  {
   "cell_type": "code",
   "execution_count": 241,
   "metadata": {},
   "outputs": [
    {
     "data": {
      "text/plain": [
       "(23705, 2304)"
      ]
     },
     "execution_count": 241,
     "metadata": {},
     "output_type": "execute_result"
    }
   ],
   "source": [
    "X = np.array(df['pixels'].tolist())\n",
    "\n",
    "X.shape"
   ]
  },
  {
   "cell_type": "code",
   "execution_count": 242,
   "metadata": {},
   "outputs": [
    {
     "data": {
      "text/plain": [
       "(48, 48, 1)"
      ]
     },
     "execution_count": 242,
     "metadata": {},
     "output_type": "execute_result"
    }
   ],
   "source": [
    "X = X.reshape(-1, 48, 48, 1) # The images are 48x48 mono\n",
    "\n",
    "X[0].shape"
   ]
  },
  {
   "cell_type": "code",
   "execution_count": 243,
   "metadata": {},
   "outputs": [
    {
     "data": {
      "image/png": "[encoded data removed]",
      "text/plain": [
       "<Figure size 640x480 with 1 Axes>"
      ]
     },
     "metadata": {},
     "output_type": "display_data"
    }
   ],
   "source": [
    "plt.imshow(X[0], cmap='gray')\n",
    "plt.xlabel(f\"Age: {age_group_map[df['age_group'][0]]}\")\n",
    "\n",
    "plt.xticks([])\n",
    "plt.yticks([])\n",
    "plt.grid(False)"
   ]
  },
  {
   "cell_type": "markdown",
   "metadata": {},
   "source": [
    "### Training and Test Split"
   ]
  },
  {
   "cell_type": "code",
   "execution_count": 244,
   "metadata": {},
   "outputs": [],
   "source": [
    "X = X / 255.0 # Normalizing the inputs\n",
    "y = tf.keras.utils.to_categorical(np.array(df['age_group']), num_classes=8)\n",
    "\n",
    "X_train, X_test, y_train, y_test = train_test_split(X, y, test_size=0.3, random_state=12)"
   ]
  },
  {
   "cell_type": "markdown",
   "metadata": {},
   "source": [
    "## The Model"
   ]
  },
  {
   "cell_type": "markdown",
   "metadata": {},
   "source": [
    "### Initializing the Model"
   ]
  },
  {
   "cell_type": "code",
   "execution_count": 245,
   "metadata": {},
   "outputs": [],
   "source": [
    "age_detection_model = tf.keras.models.Sequential()"
   ]
  },
  {
   "cell_type": "markdown",
   "metadata": {},
   "source": [
    "### Building the Model"
   ]
  },
  {
   "cell_type": "code",
   "execution_count": 246,
   "metadata": {},
   "outputs": [],
   "source": [
    "age_detection_model.add(tf.keras.layers.Conv2D(filters=32, kernel_size=3, activation='relu', input_shape=(48, 48, 1)))\n",
    "age_detection_model.add(tf.keras.layers.MaxPool2D(pool_size=2, strides=2))\n",
    "age_detection_model.add(tf.keras.layers.BatchNormalization())\n",
    "age_detection_model.add(tf.keras.layers.Dropout(0.5))\n",
    "\n",
    "age_detection_model.add(tf.keras.layers.Conv2D(filters=64, kernel_size=3, activation='relu'))\n",
    "age_detection_model.add(tf.keras.layers.MaxPool2D(pool_size=2, strides=2))\n",
    "age_detection_model.add(tf.keras.layers.BatchNormalization())\n",
    "age_detection_model.add(tf.keras.layers.Dropout(0.5))\n",
    "\n",
    "age_detection_model.add(tf.keras.layers.Conv2D(filters=128, kernel_size=3, activation='relu'))\n",
    "age_detection_model.add(tf.keras.layers.MaxPool2D(pool_size=2, strides=2))\n",
    "age_detection_model.add(tf.keras.layers.BatchNormalization())\n",
    "age_detection_model.add(tf.keras.layers.Dropout(0.5))\n",
    "\n",
    "age_detection_model.add(tf.keras.layers.Flatten())\n",
    "\n",
    "age_detection_model.add(tf.keras.layers.Dense(units=256, activation='relu'))\n",
    "age_detection_model.add(tf.keras.layers.Dropout(0.5))\n",
    "\n",
    "age_detection_model.add(tf.keras.layers.Dense(units=256, activation='relu'))\n",
    "age_detection_model.add(tf.keras.layers.Dropout(0.5))\n",
    "\n",
    "\n",
    "age_detection_model.add(tf.keras.layers.Dense(units=8, activation='softmax'))"
   ]
  },
  {
   "cell_type": "markdown",
   "metadata": {},
   "source": [
    "### Compiling the Model"
   ]
  },
  {
   "cell_type": "code",
   "execution_count": 247,
   "metadata": {},
   "outputs": [],
   "source": [
    "age_detection_model.compile(optimizer='adam', loss='categorical_crossentropy', metrics=['accuracy'])"
   ]
  },
  {
   "cell_type": "markdown",
   "metadata": {},
   "source": [
    "### Training the Model"
   ]
  },
  {
   "cell_type": "code",
   "execution_count": 249,
   "metadata": {},
   "outputs": [
    {
     "name": "stdout",
     "output_type": "stream",
     "text": [
      "Epoch 1/300\n",
      "519/519 [==============================] - 10s 20ms/step - loss: 0.9921 - accuracy: 0.5843 - val_loss: 1.0435 - val_accuracy: 0.5682\n",
      "Epoch 2/300\n",
      "519/519 [==============================] - 10s 19ms/step - loss: 0.9887 - accuracy: 0.5868 - val_loss: 1.2621 - val_accuracy: 0.5083\n",
      "Epoch 3/300\n",
      "519/519 [==============================] - 10s 19ms/step - loss: 0.9918 - accuracy: 0.5865 - val_loss: 1.2662 - val_accuracy: 0.5211\n",
      "Epoch 4/300\n",
      "519/519 [==============================] - 10s 19ms/step - loss: 0.9947 - accuracy: 0.5862 - val_loss: 1.0510 - val_accuracy: 0.5582\n",
      "Epoch 5/300\n",
      "519/519 [==============================] - 10s 20ms/step - loss: 0.9912 - accuracy: 0.5856 - val_loss: 1.0793 - val_accuracy: 0.5554\n",
      "Epoch 6/300\n",
      "519/519 [==============================] - 10s 20ms/step - loss: 0.9850 - accuracy: 0.5944 - val_loss: 1.1693 - val_accuracy: 0.5384\n",
      "Epoch 7/300\n",
      "519/519 [==============================] - 10s 20ms/step - loss: 0.9837 - accuracy: 0.5899 - val_loss: 1.2763 - val_accuracy: 0.5174\n",
      "Epoch 8/300\n",
      "519/519 [==============================] - 10s 20ms/step - loss: 0.9803 - accuracy: 0.5895 - val_loss: 1.0849 - val_accuracy: 0.5572\n",
      "Epoch 9/300\n",
      "519/519 [==============================] - 10s 20ms/step - loss: 0.9874 - accuracy: 0.5898 - val_loss: 1.2690 - val_accuracy: 0.5031\n",
      "Epoch 10/300\n",
      "519/519 [==============================] - 10s 20ms/step - loss: 0.9918 - accuracy: 0.5875 - val_loss: 1.0749 - val_accuracy: 0.5548\n",
      "Epoch 11/300\n",
      "519/519 [==============================] - 10s 20ms/step - loss: 0.9797 - accuracy: 0.5959 - val_loss: 1.1119 - val_accuracy: 0.5420\n",
      "Epoch 12/300\n",
      "519/519 [==============================] - 10s 20ms/step - loss: 0.9785 - accuracy: 0.5907 - val_loss: 1.0642 - val_accuracy: 0.5645\n",
      "Epoch 13/300\n",
      "519/519 [==============================] - 11s 20ms/step - loss: 0.9739 - accuracy: 0.5970 - val_loss: 1.0550 - val_accuracy: 0.5643\n",
      "Epoch 14/300\n",
      "519/519 [==============================] - 12s 24ms/step - loss: 0.9781 - accuracy: 0.5901 - val_loss: 1.2446 - val_accuracy: 0.5037\n",
      "Epoch 15/300\n",
      "519/519 [==============================] - 21s 40ms/step - loss: 0.9716 - accuracy: 0.5947 - val_loss: 1.0632 - val_accuracy: 0.5595\n",
      "Epoch 16/300\n",
      "519/519 [==============================] - 21s 40ms/step - loss: 0.9733 - accuracy: 0.5936 - val_loss: 1.1099 - val_accuracy: 0.5395\n",
      "Epoch 17/300\n",
      "519/519 [==============================] - 17s 32ms/step - loss: 0.9808 - accuracy: 0.5944 - val_loss: 1.3698 - val_accuracy: 0.4902\n",
      "Epoch 18/300\n",
      "519/519 [==============================] - 10s 19ms/step - loss: 0.9759 - accuracy: 0.5957 - val_loss: 1.0787 - val_accuracy: 0.5621\n",
      "Epoch 19/300\n",
      "519/519 [==============================] - 10s 19ms/step - loss: 0.9733 - accuracy: 0.5992 - val_loss: 1.1673 - val_accuracy: 0.5371\n",
      "Epoch 20/300\n",
      "519/519 [==============================] - 10s 20ms/step - loss: 0.9625 - accuracy: 0.5967 - val_loss: 1.3248 - val_accuracy: 0.5066\n",
      "Epoch 21/300\n",
      "519/519 [==============================] - 10s 20ms/step - loss: 0.9694 - accuracy: 0.5930 - val_loss: 1.0565 - val_accuracy: 0.5645\n",
      "Epoch 22/300\n",
      "519/519 [==============================] - 11s 20ms/step - loss: 0.9659 - accuracy: 0.5979 - val_loss: 1.1328 - val_accuracy: 0.5420\n",
      "Epoch 23/300\n",
      "519/519 [==============================] - 10s 20ms/step - loss: 0.9597 - accuracy: 0.5999 - val_loss: 1.5580 - val_accuracy: 0.4546\n",
      "Epoch 24/300\n",
      "519/519 [==============================] - 10s 20ms/step - loss: 0.9644 - accuracy: 0.6014 - val_loss: 1.0570 - val_accuracy: 0.5621\n",
      "Epoch 25/300\n",
      "519/519 [==============================] - 10s 20ms/step - loss: 0.9694 - accuracy: 0.5995 - val_loss: 1.0484 - val_accuracy: 0.5657\n",
      "Epoch 26/300\n",
      "519/519 [==============================] - 11s 21ms/step - loss: 0.9609 - accuracy: 0.5992 - val_loss: 1.0830 - val_accuracy: 0.5557\n",
      "Epoch 27/300\n",
      "519/519 [==============================] - 10s 20ms/step - loss: 0.9633 - accuracy: 0.5972 - val_loss: 1.1316 - val_accuracy: 0.5437\n",
      "Epoch 28/300\n",
      "519/519 [==============================] - 10s 20ms/step - loss: 0.9627 - accuracy: 0.6033 - val_loss: 1.0371 - val_accuracy: 0.5665\n",
      "Epoch 29/300\n",
      "519/519 [==============================] - 10s 20ms/step - loss: 0.9585 - accuracy: 0.6019 - val_loss: 1.0472 - val_accuracy: 0.5592\n",
      "Epoch 30/300\n",
      "519/519 [==============================] - 11s 21ms/step - loss: 0.9536 - accuracy: 0.6062 - val_loss: 1.2475 - val_accuracy: 0.5108\n",
      "Epoch 31/300\n",
      "519/519 [==============================] - 10s 20ms/step - loss: 0.9517 - accuracy: 0.6055 - val_loss: 1.0605 - val_accuracy: 0.5654\n",
      "Epoch 32/300\n",
      "519/519 [==============================] - 10s 20ms/step - loss: 0.9579 - accuracy: 0.5992 - val_loss: 1.3708 - val_accuracy: 0.5025\n",
      "Epoch 33/300\n",
      "519/519 [==============================] - 10s 20ms/step - loss: 0.9509 - accuracy: 0.6036 - val_loss: 1.0511 - val_accuracy: 0.5671\n",
      "Epoch 34/300\n",
      "519/519 [==============================] - 11s 20ms/step - loss: 0.9520 - accuracy: 0.6065 - val_loss: 1.5037 - val_accuracy: 0.4695\n",
      "Epoch 35/300\n",
      "519/519 [==============================] - 17s 32ms/step - loss: 0.9440 - accuracy: 0.6092 - val_loss: 1.0714 - val_accuracy: 0.5616\n",
      "Epoch 36/300\n",
      "519/519 [==============================] - 11s 21ms/step - loss: 0.9479 - accuracy: 0.6052 - val_loss: 1.3202 - val_accuracy: 0.5010\n",
      "Epoch 37/300\n",
      "519/519 [==============================] - 11s 21ms/step - loss: 0.9470 - accuracy: 0.6088 - val_loss: 1.0483 - val_accuracy: 0.5664\n",
      "Epoch 38/300\n",
      "519/519 [==============================] - 10s 20ms/step - loss: 0.9534 - accuracy: 0.6101 - val_loss: 1.0862 - val_accuracy: 0.5482\n",
      "Epoch 39/300\n",
      "519/519 [==============================] - 10s 18ms/step - loss: 0.9465 - accuracy: 0.6122 - val_loss: 1.0810 - val_accuracy: 0.5557\n",
      "Epoch 40/300\n",
      "519/519 [==============================] - 10s 19ms/step - loss: 0.9619 - accuracy: 0.6050 - val_loss: 1.0939 - val_accuracy: 0.5529\n",
      "Epoch 41/300\n",
      "519/519 [==============================] - 10s 20ms/step - loss: 0.9513 - accuracy: 0.6078 - val_loss: 1.1538 - val_accuracy: 0.5501\n",
      "Epoch 42/300\n",
      "519/519 [==============================] - 11s 21ms/step - loss: 0.9478 - accuracy: 0.6052 - val_loss: 1.3003 - val_accuracy: 0.5060\n",
      "Epoch 43/300\n",
      "519/519 [==============================] - 11s 22ms/step - loss: 0.9451 - accuracy: 0.6066 - val_loss: 1.4358 - val_accuracy: 0.4796\n",
      "Epoch 44/300\n",
      "519/519 [==============================] - 11s 21ms/step - loss: 0.9355 - accuracy: 0.6128 - val_loss: 1.3127 - val_accuracy: 0.4992\n",
      "Epoch 45/300\n",
      "519/519 [==============================] - 11s 21ms/step - loss: 0.9557 - accuracy: 0.6043 - val_loss: 1.0500 - val_accuracy: 0.5652\n",
      "Epoch 46/300\n",
      "519/519 [==============================] - 11s 21ms/step - loss: 0.9442 - accuracy: 0.6074 - val_loss: 1.3508 - val_accuracy: 0.4942\n",
      "Epoch 47/300\n",
      "519/519 [==============================] - 11s 21ms/step - loss: 0.9459 - accuracy: 0.6100 - val_loss: 1.1436 - val_accuracy: 0.5418\n",
      "Epoch 48/300\n",
      "519/519 [==============================] - 11s 21ms/step - loss: 0.9271 - accuracy: 0.6164 - val_loss: 1.0842 - val_accuracy: 0.5574\n",
      "Epoch 49/300\n",
      "519/519 [==============================] - 11s 21ms/step - loss: 0.9513 - accuracy: 0.6080 - val_loss: 1.0991 - val_accuracy: 0.5509\n",
      "Epoch 50/300\n",
      "519/519 [==============================] - 11s 21ms/step - loss: 0.9389 - accuracy: 0.6107 - val_loss: 1.0693 - val_accuracy: 0.5588\n",
      "Epoch 51/300\n",
      "519/519 [==============================] - 11s 21ms/step - loss: 0.9369 - accuracy: 0.6098 - val_loss: 1.0563 - val_accuracy: 0.5640\n",
      "Epoch 52/300\n",
      "519/519 [==============================] - 11s 21ms/step - loss: 0.9347 - accuracy: 0.6112 - val_loss: 1.1561 - val_accuracy: 0.5363\n",
      "Epoch 53/300\n",
      "519/519 [==============================] - 11s 21ms/step - loss: 0.9392 - accuracy: 0.6107 - val_loss: 1.0680 - val_accuracy: 0.5516\n",
      "Epoch 54/300\n",
      "519/519 [==============================] - 11s 21ms/step - loss: 0.9296 - accuracy: 0.6133 - val_loss: 1.0623 - val_accuracy: 0.5623\n",
      "Epoch 55/300\n",
      "519/519 [==============================] - 11s 21ms/step - loss: 0.9259 - accuracy: 0.6160 - val_loss: 1.1100 - val_accuracy: 0.5527\n",
      "Epoch 56/300\n",
      "519/519 [==============================] - 11s 21ms/step - loss: 0.9369 - accuracy: 0.6142 - val_loss: 1.1445 - val_accuracy: 0.5433\n",
      "Epoch 57/300\n",
      "519/519 [==============================] - 11s 21ms/step - loss: 0.9416 - accuracy: 0.6130 - val_loss: 1.1712 - val_accuracy: 0.5380\n",
      "Epoch 58/300\n",
      "519/519 [==============================] - 11s 21ms/step - loss: 0.9334 - accuracy: 0.6154 - val_loss: 1.4750 - val_accuracy: 0.4869\n",
      "Epoch 59/300\n",
      "519/519 [==============================] - 11s 22ms/step - loss: 0.9242 - accuracy: 0.6127 - val_loss: 1.1686 - val_accuracy: 0.5291\n",
      "Epoch 60/300\n",
      "519/519 [==============================] - 10s 20ms/step - loss: 0.9270 - accuracy: 0.6201 - val_loss: 1.1244 - val_accuracy: 0.5487\n",
      "Epoch 61/300\n",
      "519/519 [==============================] - 11s 20ms/step - loss: 0.9320 - accuracy: 0.6153 - val_loss: 1.0782 - val_accuracy: 0.5575\n",
      "Epoch 62/300\n",
      "519/519 [==============================] - 11s 20ms/step - loss: 0.9240 - accuracy: 0.6194 - val_loss: 1.2946 - val_accuracy: 0.5112\n",
      "Epoch 63/300\n",
      "519/519 [==============================] - 11s 21ms/step - loss: 0.9263 - accuracy: 0.6184 - val_loss: 1.2116 - val_accuracy: 0.5194\n",
      "Epoch 64/300\n",
      "519/519 [==============================] - 11s 21ms/step - loss: 0.9259 - accuracy: 0.6175 - val_loss: 1.1081 - val_accuracy: 0.5551\n",
      "Epoch 65/300\n",
      "519/519 [==============================] - 11s 21ms/step - loss: 0.9298 - accuracy: 0.6165 - val_loss: 1.0778 - val_accuracy: 0.5565\n",
      "Epoch 66/300\n",
      "519/519 [==============================] - 11s 20ms/step - loss: 0.9138 - accuracy: 0.6195 - val_loss: 1.1077 - val_accuracy: 0.5526\n",
      "Epoch 67/300\n",
      "519/519 [==============================] - 11s 20ms/step - loss: 0.9255 - accuracy: 0.6195 - val_loss: 1.1352 - val_accuracy: 0.5475\n",
      "Epoch 68/300\n",
      "519/519 [==============================] - 10s 20ms/step - loss: 0.9205 - accuracy: 0.6186 - val_loss: 1.3704 - val_accuracy: 0.5007\n",
      "Epoch 69/300\n",
      "519/519 [==============================] - 10s 20ms/step - loss: 0.9193 - accuracy: 0.6185 - val_loss: 1.0374 - val_accuracy: 0.5748\n",
      "Epoch 70/300\n",
      "519/519 [==============================] - 10s 20ms/step - loss: 0.9279 - accuracy: 0.6209 - val_loss: 1.0505 - val_accuracy: 0.5693\n",
      "Epoch 71/300\n",
      "519/519 [==============================] - 10s 20ms/step - loss: 0.9180 - accuracy: 0.6194 - val_loss: 1.0598 - val_accuracy: 0.5629\n",
      "Epoch 72/300\n",
      "519/519 [==============================] - 10s 20ms/step - loss: 0.9130 - accuracy: 0.6235 - val_loss: 1.2314 - val_accuracy: 0.5260\n",
      "Epoch 73/300\n",
      "519/519 [==============================] - 10s 20ms/step - loss: 0.9309 - accuracy: 0.6180 - val_loss: 1.2430 - val_accuracy: 0.5270\n",
      "Epoch 74/300\n",
      "519/519 [==============================] - 11s 20ms/step - loss: 0.9218 - accuracy: 0.6233 - val_loss: 1.1302 - val_accuracy: 0.5550\n",
      "Epoch 75/300\n",
      "519/519 [==============================] - 12s 22ms/step - loss: 0.9177 - accuracy: 0.6262 - val_loss: 1.0730 - val_accuracy: 0.5624\n",
      "Epoch 76/300\n",
      "519/519 [==============================] - 12s 22ms/step - loss: 0.9175 - accuracy: 0.6189 - val_loss: 1.0842 - val_accuracy: 0.5519\n",
      "Epoch 77/300\n",
      "519/519 [==============================] - 12s 23ms/step - loss: 0.9113 - accuracy: 0.6212 - val_loss: 1.1527 - val_accuracy: 0.5389\n",
      "Epoch 78/300\n",
      "519/519 [==============================] - 12s 22ms/step - loss: 0.9200 - accuracy: 0.6202 - val_loss: 1.5608 - val_accuracy: 0.4789\n",
      "Epoch 79/300\n",
      "519/519 [==============================] - 11s 21ms/step - loss: 0.9081 - accuracy: 0.6286 - val_loss: 1.3160 - val_accuracy: 0.5159\n",
      "Epoch 80/300\n",
      "519/519 [==============================] - 11s 21ms/step - loss: 0.9230 - accuracy: 0.6244 - val_loss: 1.1306 - val_accuracy: 0.5471\n",
      "Epoch 81/300\n",
      "519/519 [==============================] - 11s 21ms/step - loss: 0.9163 - accuracy: 0.6202 - val_loss: 1.1436 - val_accuracy: 0.5444\n",
      "Epoch 82/300\n",
      "519/519 [==============================] - 11s 21ms/step - loss: 0.9142 - accuracy: 0.6298 - val_loss: 1.0791 - val_accuracy: 0.5562\n",
      "Epoch 83/300\n",
      "519/519 [==============================] - 12s 24ms/step - loss: 0.9068 - accuracy: 0.6256 - val_loss: 1.0613 - val_accuracy: 0.5602\n",
      "Epoch 84/300\n",
      "519/519 [==============================] - 12s 23ms/step - loss: 0.9204 - accuracy: 0.6232 - val_loss: 1.0459 - val_accuracy: 0.5756\n",
      "Epoch 85/300\n",
      "519/519 [==============================] - 11s 21ms/step - loss: 0.9122 - accuracy: 0.6241 - val_loss: 1.2348 - val_accuracy: 0.5238\n",
      "Epoch 86/300\n",
      "519/519 [==============================] - 12s 23ms/step - loss: 0.9048 - accuracy: 0.6301 - val_loss: 1.0775 - val_accuracy: 0.5630\n",
      "Epoch 87/300\n",
      "519/519 [==============================] - 11s 22ms/step - loss: 0.9076 - accuracy: 0.6251 - val_loss: 1.0607 - val_accuracy: 0.5650\n",
      "Epoch 88/300\n",
      "519/519 [==============================] - 12s 24ms/step - loss: 0.9100 - accuracy: 0.6243 - val_loss: 1.3492 - val_accuracy: 0.4882\n",
      "Epoch 89/300\n",
      "519/519 [==============================] - 29s 56ms/step - loss: 0.9045 - accuracy: 0.6279 - val_loss: 1.0560 - val_accuracy: 0.5605\n",
      "Epoch 90/300\n",
      "519/519 [==============================] - 24s 46ms/step - loss: 0.9183 - accuracy: 0.6197 - val_loss: 1.0656 - val_accuracy: 0.5647\n",
      "Epoch 91/300\n",
      "519/519 [==============================] - 24s 45ms/step - loss: 0.9024 - accuracy: 0.6302 - val_loss: 1.1089 - val_accuracy: 0.5524\n",
      "Epoch 92/300\n",
      "519/519 [==============================] - 24s 46ms/step - loss: 0.9070 - accuracy: 0.6236 - val_loss: 1.1944 - val_accuracy: 0.5330\n",
      "Epoch 93/300\n",
      "519/519 [==============================] - 24s 46ms/step - loss: 0.9098 - accuracy: 0.6273 - val_loss: 1.1317 - val_accuracy: 0.5425\n",
      "Epoch 94/300\n",
      "519/519 [==============================] - 24s 46ms/step - loss: 0.9186 - accuracy: 0.6249 - val_loss: 1.1581 - val_accuracy: 0.5329\n",
      "Epoch 95/300\n",
      "519/519 [==============================] - 23s 45ms/step - loss: 0.9082 - accuracy: 0.6229 - val_loss: 1.3238 - val_accuracy: 0.4978\n",
      "Epoch 96/300\n",
      "519/519 [==============================] - 25s 48ms/step - loss: 0.8998 - accuracy: 0.6259 - val_loss: 1.2481 - val_accuracy: 0.5183\n",
      "Epoch 97/300\n",
      "519/519 [==============================] - 24s 46ms/step - loss: 0.9074 - accuracy: 0.6276 - val_loss: 1.6584 - val_accuracy: 0.4528\n",
      "Epoch 98/300\n",
      "519/519 [==============================] - 23s 45ms/step - loss: 0.9045 - accuracy: 0.6271 - val_loss: 1.0626 - val_accuracy: 0.5661\n",
      "Epoch 99/300\n",
      "519/519 [==============================] - 24s 46ms/step - loss: 0.8965 - accuracy: 0.6312 - val_loss: 1.0563 - val_accuracy: 0.5669\n",
      "Epoch 100/300\n",
      "519/519 [==============================] - 24s 46ms/step - loss: 0.9033 - accuracy: 0.6276 - val_loss: 1.0894 - val_accuracy: 0.5513\n",
      "Epoch 101/300\n",
      "519/519 [==============================] - 23s 45ms/step - loss: 0.8965 - accuracy: 0.6319 - val_loss: 1.0706 - val_accuracy: 0.5613\n",
      "Epoch 102/300\n",
      "519/519 [==============================] - 25s 48ms/step - loss: 0.8948 - accuracy: 0.6297 - val_loss: 1.0564 - val_accuracy: 0.5589\n",
      "Epoch 103/300\n",
      "519/519 [==============================] - 27s 51ms/step - loss: 0.8976 - accuracy: 0.6324 - val_loss: 1.2584 - val_accuracy: 0.5245\n",
      "Epoch 104/300\n",
      "519/519 [==============================] - 29s 55ms/step - loss: 0.9049 - accuracy: 0.6317 - val_loss: 1.0590 - val_accuracy: 0.5551\n",
      "Epoch 105/300\n",
      "519/519 [==============================] - 29s 56ms/step - loss: 0.9039 - accuracy: 0.6305 - val_loss: 1.0536 - val_accuracy: 0.5564\n",
      "Epoch 106/300\n",
      "519/519 [==============================] - 27s 52ms/step - loss: 0.8959 - accuracy: 0.6333 - val_loss: 1.1470 - val_accuracy: 0.5398\n",
      "Epoch 107/300\n",
      "519/519 [==============================] - 28s 54ms/step - loss: 0.8976 - accuracy: 0.6263 - val_loss: 1.3935 - val_accuracy: 0.4757\n",
      "Epoch 108/300\n",
      "519/519 [==============================] - 30s 59ms/step - loss: 0.8980 - accuracy: 0.6338 - val_loss: 1.0635 - val_accuracy: 0.5657\n",
      "Epoch 109/300\n",
      "519/519 [==============================] - 33s 64ms/step - loss: 0.8972 - accuracy: 0.6336 - val_loss: 2.2938 - val_accuracy: 0.3785\n",
      "Epoch 110/300\n",
      "519/519 [==============================] - 32s 62ms/step - loss: 0.8902 - accuracy: 0.6319 - val_loss: 1.2034 - val_accuracy: 0.5301\n",
      "Epoch 111/300\n",
      "519/519 [==============================] - 33s 63ms/step - loss: 0.8897 - accuracy: 0.6326 - val_loss: 1.0778 - val_accuracy: 0.5575\n",
      "Epoch 112/300\n",
      "519/519 [==============================] - 34s 66ms/step - loss: 0.8950 - accuracy: 0.6323 - val_loss: 1.0825 - val_accuracy: 0.5585\n",
      "Epoch 113/300\n",
      "519/519 [==============================] - 34s 66ms/step - loss: 0.8976 - accuracy: 0.6304 - val_loss: 1.0732 - val_accuracy: 0.5596\n",
      "Epoch 114/300\n",
      "519/519 [==============================] - 35s 67ms/step - loss: 0.8955 - accuracy: 0.6342 - val_loss: 1.2498 - val_accuracy: 0.5108\n",
      "Epoch 115/300\n",
      "519/519 [==============================] - 34s 66ms/step - loss: 0.8835 - accuracy: 0.6343 - val_loss: 1.1202 - val_accuracy: 0.5574\n",
      "Epoch 116/300\n",
      "519/519 [==============================] - 34s 65ms/step - loss: 0.8892 - accuracy: 0.6320 - val_loss: 1.0595 - val_accuracy: 0.5621\n",
      "Epoch 117/300\n",
      "519/519 [==============================] - 34s 65ms/step - loss: 0.8934 - accuracy: 0.6340 - val_loss: 1.2597 - val_accuracy: 0.5269\n",
      "Epoch 118/300\n",
      "519/519 [==============================] - 34s 66ms/step - loss: 0.9009 - accuracy: 0.6300 - val_loss: 1.1053 - val_accuracy: 0.5502\n",
      "Epoch 119/300\n",
      "519/519 [==============================] - 34s 66ms/step - loss: 0.9038 - accuracy: 0.6324 - val_loss: 2.1972 - val_accuracy: 0.3870\n",
      "Epoch 120/300\n",
      "519/519 [==============================] - 34s 65ms/step - loss: 0.8901 - accuracy: 0.6326 - val_loss: 1.2989 - val_accuracy: 0.5201\n",
      "Epoch 121/300\n",
      "519/519 [==============================] - 34s 65ms/step - loss: 0.8860 - accuracy: 0.6332 - val_loss: 1.1063 - val_accuracy: 0.5593\n",
      "Epoch 122/300\n",
      "519/519 [==============================] - 34s 66ms/step - loss: 0.8941 - accuracy: 0.6378 - val_loss: 1.8202 - val_accuracy: 0.4329\n",
      "Epoch 123/300\n",
      "519/519 [==============================] - 33s 63ms/step - loss: 0.8879 - accuracy: 0.6351 - val_loss: 1.0754 - val_accuracy: 0.5558\n",
      "Epoch 124/300\n",
      "519/519 [==============================] - 32s 62ms/step - loss: 0.8943 - accuracy: 0.6327 - val_loss: 1.0880 - val_accuracy: 0.5554\n",
      "Epoch 125/300\n",
      "519/519 [==============================] - 32s 61ms/step - loss: 0.8962 - accuracy: 0.6308 - val_loss: 1.1728 - val_accuracy: 0.5340\n",
      "Epoch 126/300\n",
      "519/519 [==============================] - 33s 63ms/step - loss: 0.8823 - accuracy: 0.6348 - val_loss: 1.1199 - val_accuracy: 0.5474\n",
      "Epoch 127/300\n",
      "519/519 [==============================] - 33s 63ms/step - loss: 0.8904 - accuracy: 0.6308 - val_loss: 1.1097 - val_accuracy: 0.5584\n",
      "Epoch 128/300\n",
      "519/519 [==============================] - 34s 65ms/step - loss: 0.8863 - accuracy: 0.6335 - val_loss: 1.2272 - val_accuracy: 0.5254\n",
      "Epoch 129/300\n",
      "519/519 [==============================] - 33s 64ms/step - loss: 0.8877 - accuracy: 0.6401 - val_loss: 1.1210 - val_accuracy: 0.5519\n",
      "Epoch 130/300\n",
      "519/519 [==============================] - 35s 66ms/step - loss: 0.8888 - accuracy: 0.6348 - val_loss: 1.1024 - val_accuracy: 0.5586\n",
      "Epoch 131/300\n",
      "519/519 [==============================] - 33s 64ms/step - loss: 0.8752 - accuracy: 0.6435 - val_loss: 1.1171 - val_accuracy: 0.5416\n",
      "Epoch 132/300\n",
      "519/519 [==============================] - 34s 65ms/step - loss: 0.8832 - accuracy: 0.6377 - val_loss: 1.1041 - val_accuracy: 0.5526\n",
      "Epoch 133/300\n",
      "519/519 [==============================] - 32s 61ms/step - loss: 0.8752 - accuracy: 0.6454 - val_loss: 1.0682 - val_accuracy: 0.5569\n",
      "Epoch 134/300\n",
      "519/519 [==============================] - 29s 55ms/step - loss: 0.8801 - accuracy: 0.6362 - val_loss: 1.0669 - val_accuracy: 0.5598\n",
      "Epoch 135/300\n",
      "519/519 [==============================] - 26s 50ms/step - loss: 0.8859 - accuracy: 0.6410 - val_loss: 1.1180 - val_accuracy: 0.5498\n",
      "Epoch 136/300\n",
      "519/519 [==============================] - 24s 46ms/step - loss: 0.8784 - accuracy: 0.6411 - val_loss: 1.0818 - val_accuracy: 0.5600\n",
      "Epoch 137/300\n",
      "519/519 [==============================] - 24s 47ms/step - loss: 0.8808 - accuracy: 0.6379 - val_loss: 1.2524 - val_accuracy: 0.5218\n",
      "Epoch 138/300\n",
      "519/519 [==============================] - 25s 49ms/step - loss: 0.8795 - accuracy: 0.6425 - val_loss: 1.0905 - val_accuracy: 0.5582\n",
      "Epoch 139/300\n",
      "519/519 [==============================] - 24s 46ms/step - loss: 0.8825 - accuracy: 0.6353 - val_loss: 1.0691 - val_accuracy: 0.5619\n",
      "Epoch 140/300\n",
      "519/519 [==============================] - 24s 47ms/step - loss: 0.8821 - accuracy: 0.6412 - val_loss: 1.0572 - val_accuracy: 0.5696\n",
      "Epoch 141/300\n",
      "519/519 [==============================] - 25s 48ms/step - loss: 0.8861 - accuracy: 0.6415 - val_loss: 1.6643 - val_accuracy: 0.4650\n",
      "Epoch 142/300\n",
      "519/519 [==============================] - 24s 46ms/step - loss: 0.8682 - accuracy: 0.6470 - val_loss: 1.1965 - val_accuracy: 0.5332\n",
      "Epoch 143/300\n",
      "519/519 [==============================] - 25s 47ms/step - loss: 0.8777 - accuracy: 0.6408 - val_loss: 1.0994 - val_accuracy: 0.5555\n",
      "Epoch 144/300\n",
      "519/519 [==============================] - 25s 48ms/step - loss: 0.8708 - accuracy: 0.6395 - val_loss: 1.0586 - val_accuracy: 0.5648\n",
      "Epoch 145/300\n",
      "519/519 [==============================] - 27s 51ms/step - loss: 0.8793 - accuracy: 0.6426 - val_loss: 1.0713 - val_accuracy: 0.5603\n",
      "Epoch 146/300\n",
      "519/519 [==============================] - 28s 55ms/step - loss: 0.8723 - accuracy: 0.6419 - val_loss: 1.1181 - val_accuracy: 0.5509\n",
      "Epoch 147/300\n",
      "519/519 [==============================] - 29s 55ms/step - loss: 0.8713 - accuracy: 0.6451 - val_loss: 1.1463 - val_accuracy: 0.5468\n",
      "Epoch 148/300\n",
      "519/519 [==============================] - 25s 48ms/step - loss: 0.8811 - accuracy: 0.6417 - val_loss: 1.0831 - val_accuracy: 0.5582\n",
      "Epoch 149/300\n",
      "519/519 [==============================] - 28s 53ms/step - loss: 0.8711 - accuracy: 0.6478 - val_loss: 1.1803 - val_accuracy: 0.5359\n",
      "Epoch 150/300\n",
      "519/519 [==============================] - 23s 44ms/step - loss: 0.8715 - accuracy: 0.6441 - val_loss: 1.1244 - val_accuracy: 0.5389\n",
      "Epoch 151/300\n",
      "519/519 [==============================] - 28s 54ms/step - loss: 0.8683 - accuracy: 0.6473 - val_loss: 1.1322 - val_accuracy: 0.5370\n",
      "Epoch 152/300\n",
      "519/519 [==============================] - 34s 66ms/step - loss: 0.8867 - accuracy: 0.6392 - val_loss: 1.5208 - val_accuracy: 0.4660\n",
      "Epoch 153/300\n",
      "519/519 [==============================] - 19s 36ms/step - loss: 0.8708 - accuracy: 0.6479 - val_loss: 1.1002 - val_accuracy: 0.5527\n",
      "Epoch 154/300\n",
      "519/519 [==============================] - 12s 22ms/step - loss: 0.8630 - accuracy: 0.6477 - val_loss: 1.0529 - val_accuracy: 0.5651\n",
      "Epoch 155/300\n",
      "519/519 [==============================] - 11s 21ms/step - loss: 0.8696 - accuracy: 0.6486 - val_loss: 1.2352 - val_accuracy: 0.5266\n",
      "Epoch 156/300\n",
      "519/519 [==============================] - 11s 21ms/step - loss: 0.8709 - accuracy: 0.6434 - val_loss: 1.0799 - val_accuracy: 0.5544\n",
      "Epoch 157/300\n",
      "519/519 [==============================] - 11s 21ms/step - loss: 0.8640 - accuracy: 0.6466 - val_loss: 1.1290 - val_accuracy: 0.5432\n",
      "Epoch 158/300\n",
      "519/519 [==============================] - 11s 21ms/step - loss: 0.8631 - accuracy: 0.6472 - val_loss: 1.1339 - val_accuracy: 0.5475\n",
      "Epoch 159/300\n",
      "519/519 [==============================] - 11s 21ms/step - loss: 0.8660 - accuracy: 0.6481 - val_loss: 1.1139 - val_accuracy: 0.5519\n",
      "Epoch 160/300\n",
      "308/519 [================>.............] - ETA: 4s - loss: 0.8729 - accuracy: 0.6413"
     ]
    },
    {
     "ename": "KeyboardInterrupt",
     "evalue": "",
     "output_type": "error",
     "traceback": [
      "\u001b[1;31m---------------------------------------------------------------------------\u001b[0m",
      "\u001b[1;31mKeyboardInterrupt\u001b[0m                         Traceback (most recent call last)",
      "Cell \u001b[1;32mIn[249], line 1\u001b[0m\n\u001b[1;32m----> 1\u001b[0m \u001b[43mage_detection_model\u001b[49m\u001b[38;5;241;43m.\u001b[39;49m\u001b[43mfit\u001b[49m\u001b[43m(\u001b[49m\u001b[43mX_train\u001b[49m\u001b[43m,\u001b[49m\u001b[43m \u001b[49m\u001b[43my_train\u001b[49m\u001b[43m,\u001b[49m\u001b[43m \u001b[49m\u001b[43mbatch_size\u001b[49m\u001b[38;5;241;43m=\u001b[39;49m\u001b[38;5;241;43m32\u001b[39;49m\u001b[43m,\u001b[49m\u001b[43m \u001b[49m\u001b[43mvalidation_data\u001b[49m\u001b[38;5;241;43m=\u001b[39;49m\u001b[43m(\u001b[49m\u001b[43mX_test\u001b[49m\u001b[43m,\u001b[49m\u001b[43m \u001b[49m\u001b[43my_test\u001b[49m\u001b[43m)\u001b[49m\u001b[43m,\u001b[49m\u001b[43m \u001b[49m\u001b[43mepochs\u001b[49m\u001b[38;5;241;43m=\u001b[39;49m\u001b[38;5;241;43m300\u001b[39;49m\u001b[43m)\u001b[49m\n",
      "File \u001b[1;32mc:\\Users\\user\\Documents\\GitHub\\Age-Dectection-with-CNN\\.venv\\Lib\\site-packages\\keras\\src\\utils\\traceback_utils.py:65\u001b[0m, in \u001b[0;36mfilter_traceback.<locals>.error_handler\u001b[1;34m(*args, **kwargs)\u001b[0m\n\u001b[0;32m     63\u001b[0m filtered_tb \u001b[38;5;241m=\u001b[39m \u001b[38;5;28;01mNone\u001b[39;00m\n\u001b[0;32m     64\u001b[0m \u001b[38;5;28;01mtry\u001b[39;00m:\n\u001b[1;32m---> 65\u001b[0m     \u001b[38;5;28;01mreturn\u001b[39;00m \u001b[43mfn\u001b[49m\u001b[43m(\u001b[49m\u001b[38;5;241;43m*\u001b[39;49m\u001b[43margs\u001b[49m\u001b[43m,\u001b[49m\u001b[43m \u001b[49m\u001b[38;5;241;43m*\u001b[39;49m\u001b[38;5;241;43m*\u001b[39;49m\u001b[43mkwargs\u001b[49m\u001b[43m)\u001b[49m\n\u001b[0;32m     66\u001b[0m \u001b[38;5;28;01mexcept\u001b[39;00m \u001b[38;5;167;01mException\u001b[39;00m \u001b[38;5;28;01mas\u001b[39;00m e:\n\u001b[0;32m     67\u001b[0m     filtered_tb \u001b[38;5;241m=\u001b[39m _process_traceback_frames(e\u001b[38;5;241m.\u001b[39m__traceback__)\n",
      "File \u001b[1;32mc:\\Users\\user\\Documents\\GitHub\\Age-Dectection-with-CNN\\.venv\\Lib\\site-packages\\keras\\src\\engine\\training.py:1807\u001b[0m, in \u001b[0;36mModel.fit\u001b[1;34m(self, x, y, batch_size, epochs, verbose, callbacks, validation_split, validation_data, shuffle, class_weight, sample_weight, initial_epoch, steps_per_epoch, validation_steps, validation_batch_size, validation_freq, max_queue_size, workers, use_multiprocessing)\u001b[0m\n\u001b[0;32m   1799\u001b[0m \u001b[38;5;28;01mwith\u001b[39;00m tf\u001b[38;5;241m.\u001b[39mprofiler\u001b[38;5;241m.\u001b[39mexperimental\u001b[38;5;241m.\u001b[39mTrace(\n\u001b[0;32m   1800\u001b[0m     \u001b[38;5;124m\"\u001b[39m\u001b[38;5;124mtrain\u001b[39m\u001b[38;5;124m\"\u001b[39m,\n\u001b[0;32m   1801\u001b[0m     epoch_num\u001b[38;5;241m=\u001b[39mepoch,\n\u001b[1;32m   (...)\u001b[0m\n\u001b[0;32m   1804\u001b[0m     _r\u001b[38;5;241m=\u001b[39m\u001b[38;5;241m1\u001b[39m,\n\u001b[0;32m   1805\u001b[0m ):\n\u001b[0;32m   1806\u001b[0m     callbacks\u001b[38;5;241m.\u001b[39mon_train_batch_begin(step)\n\u001b[1;32m-> 1807\u001b[0m     tmp_logs \u001b[38;5;241m=\u001b[39m \u001b[38;5;28;43mself\u001b[39;49m\u001b[38;5;241;43m.\u001b[39;49m\u001b[43mtrain_function\u001b[49m\u001b[43m(\u001b[49m\u001b[43miterator\u001b[49m\u001b[43m)\u001b[49m\n\u001b[0;32m   1808\u001b[0m     \u001b[38;5;28;01mif\u001b[39;00m data_handler\u001b[38;5;241m.\u001b[39mshould_sync:\n\u001b[0;32m   1809\u001b[0m         context\u001b[38;5;241m.\u001b[39masync_wait()\n",
      "File \u001b[1;32mc:\\Users\\user\\Documents\\GitHub\\Age-Dectection-with-CNN\\.venv\\Lib\\site-packages\\tensorflow\\python\\util\\traceback_utils.py:150\u001b[0m, in \u001b[0;36mfilter_traceback.<locals>.error_handler\u001b[1;34m(*args, **kwargs)\u001b[0m\n\u001b[0;32m    148\u001b[0m filtered_tb \u001b[38;5;241m=\u001b[39m \u001b[38;5;28;01mNone\u001b[39;00m\n\u001b[0;32m    149\u001b[0m \u001b[38;5;28;01mtry\u001b[39;00m:\n\u001b[1;32m--> 150\u001b[0m   \u001b[38;5;28;01mreturn\u001b[39;00m \u001b[43mfn\u001b[49m\u001b[43m(\u001b[49m\u001b[38;5;241;43m*\u001b[39;49m\u001b[43margs\u001b[49m\u001b[43m,\u001b[49m\u001b[43m \u001b[49m\u001b[38;5;241;43m*\u001b[39;49m\u001b[38;5;241;43m*\u001b[39;49m\u001b[43mkwargs\u001b[49m\u001b[43m)\u001b[49m\n\u001b[0;32m    151\u001b[0m \u001b[38;5;28;01mexcept\u001b[39;00m \u001b[38;5;167;01mException\u001b[39;00m \u001b[38;5;28;01mas\u001b[39;00m e:\n\u001b[0;32m    152\u001b[0m   filtered_tb \u001b[38;5;241m=\u001b[39m _process_traceback_frames(e\u001b[38;5;241m.\u001b[39m__traceback__)\n",
      "File \u001b[1;32mc:\\Users\\user\\Documents\\GitHub\\Age-Dectection-with-CNN\\.venv\\Lib\\site-packages\\tensorflow\\python\\eager\\polymorphic_function\\polymorphic_function.py:832\u001b[0m, in \u001b[0;36mFunction.__call__\u001b[1;34m(self, *args, **kwds)\u001b[0m\n\u001b[0;32m    829\u001b[0m compiler \u001b[38;5;241m=\u001b[39m \u001b[38;5;124m\"\u001b[39m\u001b[38;5;124mxla\u001b[39m\u001b[38;5;124m\"\u001b[39m \u001b[38;5;28;01mif\u001b[39;00m \u001b[38;5;28mself\u001b[39m\u001b[38;5;241m.\u001b[39m_jit_compile \u001b[38;5;28;01melse\u001b[39;00m \u001b[38;5;124m\"\u001b[39m\u001b[38;5;124mnonXla\u001b[39m\u001b[38;5;124m\"\u001b[39m\n\u001b[0;32m    831\u001b[0m \u001b[38;5;28;01mwith\u001b[39;00m OptionalXlaContext(\u001b[38;5;28mself\u001b[39m\u001b[38;5;241m.\u001b[39m_jit_compile):\n\u001b[1;32m--> 832\u001b[0m   result \u001b[38;5;241m=\u001b[39m \u001b[38;5;28;43mself\u001b[39;49m\u001b[38;5;241;43m.\u001b[39;49m\u001b[43m_call\u001b[49m\u001b[43m(\u001b[49m\u001b[38;5;241;43m*\u001b[39;49m\u001b[43margs\u001b[49m\u001b[43m,\u001b[49m\u001b[43m \u001b[49m\u001b[38;5;241;43m*\u001b[39;49m\u001b[38;5;241;43m*\u001b[39;49m\u001b[43mkwds\u001b[49m\u001b[43m)\u001b[49m\n\u001b[0;32m    834\u001b[0m new_tracing_count \u001b[38;5;241m=\u001b[39m \u001b[38;5;28mself\u001b[39m\u001b[38;5;241m.\u001b[39mexperimental_get_tracing_count()\n\u001b[0;32m    835\u001b[0m without_tracing \u001b[38;5;241m=\u001b[39m (tracing_count \u001b[38;5;241m==\u001b[39m new_tracing_count)\n",
      "File \u001b[1;32mc:\\Users\\user\\Documents\\GitHub\\Age-Dectection-with-CNN\\.venv\\Lib\\site-packages\\tensorflow\\python\\eager\\polymorphic_function\\polymorphic_function.py:868\u001b[0m, in \u001b[0;36mFunction._call\u001b[1;34m(self, *args, **kwds)\u001b[0m\n\u001b[0;32m    865\u001b[0m   \u001b[38;5;28mself\u001b[39m\u001b[38;5;241m.\u001b[39m_lock\u001b[38;5;241m.\u001b[39mrelease()\n\u001b[0;32m    866\u001b[0m   \u001b[38;5;66;03m# In this case we have created variables on the first call, so we run the\u001b[39;00m\n\u001b[0;32m    867\u001b[0m   \u001b[38;5;66;03m# defunned version which is guaranteed to never create variables.\u001b[39;00m\n\u001b[1;32m--> 868\u001b[0m   \u001b[38;5;28;01mreturn\u001b[39;00m \u001b[43mtracing_compilation\u001b[49m\u001b[38;5;241;43m.\u001b[39;49m\u001b[43mcall_function\u001b[49m\u001b[43m(\u001b[49m\n\u001b[0;32m    869\u001b[0m \u001b[43m      \u001b[49m\u001b[43margs\u001b[49m\u001b[43m,\u001b[49m\u001b[43m \u001b[49m\u001b[43mkwds\u001b[49m\u001b[43m,\u001b[49m\u001b[43m \u001b[49m\u001b[38;5;28;43mself\u001b[39;49m\u001b[38;5;241;43m.\u001b[39;49m\u001b[43m_no_variable_creation_config\u001b[49m\n\u001b[0;32m    870\u001b[0m \u001b[43m  \u001b[49m\u001b[43m)\u001b[49m\n\u001b[0;32m    871\u001b[0m \u001b[38;5;28;01melif\u001b[39;00m \u001b[38;5;28mself\u001b[39m\u001b[38;5;241m.\u001b[39m_variable_creation_config \u001b[38;5;129;01mis\u001b[39;00m \u001b[38;5;129;01mnot\u001b[39;00m \u001b[38;5;28;01mNone\u001b[39;00m:\n\u001b[0;32m    872\u001b[0m   \u001b[38;5;66;03m# Release the lock early so that multiple threads can perform the call\u001b[39;00m\n\u001b[0;32m    873\u001b[0m   \u001b[38;5;66;03m# in parallel.\u001b[39;00m\n\u001b[0;32m    874\u001b[0m   \u001b[38;5;28mself\u001b[39m\u001b[38;5;241m.\u001b[39m_lock\u001b[38;5;241m.\u001b[39mrelease()\n",
      "File \u001b[1;32mc:\\Users\\user\\Documents\\GitHub\\Age-Dectection-with-CNN\\.venv\\Lib\\site-packages\\tensorflow\\python\\eager\\polymorphic_function\\tracing_compilation.py:139\u001b[0m, in \u001b[0;36mcall_function\u001b[1;34m(args, kwargs, tracing_options)\u001b[0m\n\u001b[0;32m    137\u001b[0m bound_args \u001b[38;5;241m=\u001b[39m function\u001b[38;5;241m.\u001b[39mfunction_type\u001b[38;5;241m.\u001b[39mbind(\u001b[38;5;241m*\u001b[39margs, \u001b[38;5;241m*\u001b[39m\u001b[38;5;241m*\u001b[39mkwargs)\n\u001b[0;32m    138\u001b[0m flat_inputs \u001b[38;5;241m=\u001b[39m function\u001b[38;5;241m.\u001b[39mfunction_type\u001b[38;5;241m.\u001b[39munpack_inputs(bound_args)\n\u001b[1;32m--> 139\u001b[0m \u001b[38;5;28;01mreturn\u001b[39;00m \u001b[43mfunction\u001b[49m\u001b[38;5;241;43m.\u001b[39;49m\u001b[43m_call_flat\u001b[49m\u001b[43m(\u001b[49m\u001b[43m  \u001b[49m\u001b[38;5;66;43;03m# pylint: disable=protected-access\u001b[39;49;00m\n\u001b[0;32m    140\u001b[0m \u001b[43m    \u001b[49m\u001b[43mflat_inputs\u001b[49m\u001b[43m,\u001b[49m\u001b[43m \u001b[49m\u001b[43mcaptured_inputs\u001b[49m\u001b[38;5;241;43m=\u001b[39;49m\u001b[43mfunction\u001b[49m\u001b[38;5;241;43m.\u001b[39;49m\u001b[43mcaptured_inputs\u001b[49m\n\u001b[0;32m    141\u001b[0m \u001b[43m\u001b[49m\u001b[43m)\u001b[49m\n",
      "File \u001b[1;32mc:\\Users\\user\\Documents\\GitHub\\Age-Dectection-with-CNN\\.venv\\Lib\\site-packages\\tensorflow\\python\\eager\\polymorphic_function\\concrete_function.py:1323\u001b[0m, in \u001b[0;36mConcreteFunction._call_flat\u001b[1;34m(self, tensor_inputs, captured_inputs)\u001b[0m\n\u001b[0;32m   1319\u001b[0m possible_gradient_type \u001b[38;5;241m=\u001b[39m gradients_util\u001b[38;5;241m.\u001b[39mPossibleTapeGradientTypes(args)\n\u001b[0;32m   1320\u001b[0m \u001b[38;5;28;01mif\u001b[39;00m (possible_gradient_type \u001b[38;5;241m==\u001b[39m gradients_util\u001b[38;5;241m.\u001b[39mPOSSIBLE_GRADIENT_TYPES_NONE\n\u001b[0;32m   1321\u001b[0m     \u001b[38;5;129;01mand\u001b[39;00m executing_eagerly):\n\u001b[0;32m   1322\u001b[0m   \u001b[38;5;66;03m# No tape is watching; skip to running the function.\u001b[39;00m\n\u001b[1;32m-> 1323\u001b[0m   \u001b[38;5;28;01mreturn\u001b[39;00m \u001b[38;5;28;43mself\u001b[39;49m\u001b[38;5;241;43m.\u001b[39;49m\u001b[43m_inference_function\u001b[49m\u001b[38;5;241;43m.\u001b[39;49m\u001b[43mcall_preflattened\u001b[49m\u001b[43m(\u001b[49m\u001b[43margs\u001b[49m\u001b[43m)\u001b[49m\n\u001b[0;32m   1324\u001b[0m forward_backward \u001b[38;5;241m=\u001b[39m \u001b[38;5;28mself\u001b[39m\u001b[38;5;241m.\u001b[39m_select_forward_and_backward_functions(\n\u001b[0;32m   1325\u001b[0m     args,\n\u001b[0;32m   1326\u001b[0m     possible_gradient_type,\n\u001b[0;32m   1327\u001b[0m     executing_eagerly)\n\u001b[0;32m   1328\u001b[0m forward_function, args_with_tangents \u001b[38;5;241m=\u001b[39m forward_backward\u001b[38;5;241m.\u001b[39mforward()\n",
      "File \u001b[1;32mc:\\Users\\user\\Documents\\GitHub\\Age-Dectection-with-CNN\\.venv\\Lib\\site-packages\\tensorflow\\python\\eager\\polymorphic_function\\atomic_function.py:216\u001b[0m, in \u001b[0;36mAtomicFunction.call_preflattened\u001b[1;34m(self, args)\u001b[0m\n\u001b[0;32m    214\u001b[0m \u001b[38;5;28;01mdef\u001b[39;00m \u001b[38;5;21mcall_preflattened\u001b[39m(\u001b[38;5;28mself\u001b[39m, args: Sequence[core\u001b[38;5;241m.\u001b[39mTensor]) \u001b[38;5;241m-\u001b[39m\u001b[38;5;241m>\u001b[39m Any:\n\u001b[0;32m    215\u001b[0m \u001b[38;5;250m  \u001b[39m\u001b[38;5;124;03m\"\"\"Calls with flattened tensor inputs and returns the structured output.\"\"\"\u001b[39;00m\n\u001b[1;32m--> 216\u001b[0m   flat_outputs \u001b[38;5;241m=\u001b[39m \u001b[38;5;28;43mself\u001b[39;49m\u001b[38;5;241;43m.\u001b[39;49m\u001b[43mcall_flat\u001b[49m\u001b[43m(\u001b[49m\u001b[38;5;241;43m*\u001b[39;49m\u001b[43margs\u001b[49m\u001b[43m)\u001b[49m\n\u001b[0;32m    217\u001b[0m   \u001b[38;5;28;01mreturn\u001b[39;00m \u001b[38;5;28mself\u001b[39m\u001b[38;5;241m.\u001b[39mfunction_type\u001b[38;5;241m.\u001b[39mpack_output(flat_outputs)\n",
      "File \u001b[1;32mc:\\Users\\user\\Documents\\GitHub\\Age-Dectection-with-CNN\\.venv\\Lib\\site-packages\\tensorflow\\python\\eager\\polymorphic_function\\atomic_function.py:251\u001b[0m, in \u001b[0;36mAtomicFunction.call_flat\u001b[1;34m(self, *args)\u001b[0m\n\u001b[0;32m    249\u001b[0m \u001b[38;5;28;01mwith\u001b[39;00m record\u001b[38;5;241m.\u001b[39mstop_recording():\n\u001b[0;32m    250\u001b[0m   \u001b[38;5;28;01mif\u001b[39;00m \u001b[38;5;28mself\u001b[39m\u001b[38;5;241m.\u001b[39m_bound_context\u001b[38;5;241m.\u001b[39mexecuting_eagerly():\n\u001b[1;32m--> 251\u001b[0m     outputs \u001b[38;5;241m=\u001b[39m \u001b[38;5;28;43mself\u001b[39;49m\u001b[38;5;241;43m.\u001b[39;49m\u001b[43m_bound_context\u001b[49m\u001b[38;5;241;43m.\u001b[39;49m\u001b[43mcall_function\u001b[49m\u001b[43m(\u001b[49m\n\u001b[0;32m    252\u001b[0m \u001b[43m        \u001b[49m\u001b[38;5;28;43mself\u001b[39;49m\u001b[38;5;241;43m.\u001b[39;49m\u001b[43mname\u001b[49m\u001b[43m,\u001b[49m\n\u001b[0;32m    253\u001b[0m \u001b[43m        \u001b[49m\u001b[38;5;28;43mlist\u001b[39;49m\u001b[43m(\u001b[49m\u001b[43margs\u001b[49m\u001b[43m)\u001b[49m\u001b[43m,\u001b[49m\n\u001b[0;32m    254\u001b[0m \u001b[43m        \u001b[49m\u001b[38;5;28;43mlen\u001b[39;49m\u001b[43m(\u001b[49m\u001b[38;5;28;43mself\u001b[39;49m\u001b[38;5;241;43m.\u001b[39;49m\u001b[43mfunction_type\u001b[49m\u001b[38;5;241;43m.\u001b[39;49m\u001b[43mflat_outputs\u001b[49m\u001b[43m)\u001b[49m\u001b[43m,\u001b[49m\n\u001b[0;32m    255\u001b[0m \u001b[43m    \u001b[49m\u001b[43m)\u001b[49m\n\u001b[0;32m    256\u001b[0m   \u001b[38;5;28;01melse\u001b[39;00m:\n\u001b[0;32m    257\u001b[0m     outputs \u001b[38;5;241m=\u001b[39m make_call_op_in_graph(\n\u001b[0;32m    258\u001b[0m         \u001b[38;5;28mself\u001b[39m,\n\u001b[0;32m    259\u001b[0m         \u001b[38;5;28mlist\u001b[39m(args),\n\u001b[0;32m    260\u001b[0m         \u001b[38;5;28mself\u001b[39m\u001b[38;5;241m.\u001b[39m_bound_context\u001b[38;5;241m.\u001b[39mfunction_call_options\u001b[38;5;241m.\u001b[39mas_attrs(),\n\u001b[0;32m    261\u001b[0m     )\n",
      "File \u001b[1;32mc:\\Users\\user\\Documents\\GitHub\\Age-Dectection-with-CNN\\.venv\\Lib\\site-packages\\tensorflow\\python\\eager\\context.py:1486\u001b[0m, in \u001b[0;36mContext.call_function\u001b[1;34m(self, name, tensor_inputs, num_outputs)\u001b[0m\n\u001b[0;32m   1484\u001b[0m cancellation_context \u001b[38;5;241m=\u001b[39m cancellation\u001b[38;5;241m.\u001b[39mcontext()\n\u001b[0;32m   1485\u001b[0m \u001b[38;5;28;01mif\u001b[39;00m cancellation_context \u001b[38;5;129;01mis\u001b[39;00m \u001b[38;5;28;01mNone\u001b[39;00m:\n\u001b[1;32m-> 1486\u001b[0m   outputs \u001b[38;5;241m=\u001b[39m \u001b[43mexecute\u001b[49m\u001b[38;5;241;43m.\u001b[39;49m\u001b[43mexecute\u001b[49m\u001b[43m(\u001b[49m\n\u001b[0;32m   1487\u001b[0m \u001b[43m      \u001b[49m\u001b[43mname\u001b[49m\u001b[38;5;241;43m.\u001b[39;49m\u001b[43mdecode\u001b[49m\u001b[43m(\u001b[49m\u001b[38;5;124;43m\"\u001b[39;49m\u001b[38;5;124;43mutf-8\u001b[39;49m\u001b[38;5;124;43m\"\u001b[39;49m\u001b[43m)\u001b[49m\u001b[43m,\u001b[49m\n\u001b[0;32m   1488\u001b[0m \u001b[43m      \u001b[49m\u001b[43mnum_outputs\u001b[49m\u001b[38;5;241;43m=\u001b[39;49m\u001b[43mnum_outputs\u001b[49m\u001b[43m,\u001b[49m\n\u001b[0;32m   1489\u001b[0m \u001b[43m      \u001b[49m\u001b[43minputs\u001b[49m\u001b[38;5;241;43m=\u001b[39;49m\u001b[43mtensor_inputs\u001b[49m\u001b[43m,\u001b[49m\n\u001b[0;32m   1490\u001b[0m \u001b[43m      \u001b[49m\u001b[43mattrs\u001b[49m\u001b[38;5;241;43m=\u001b[39;49m\u001b[43mattrs\u001b[49m\u001b[43m,\u001b[49m\n\u001b[0;32m   1491\u001b[0m \u001b[43m      \u001b[49m\u001b[43mctx\u001b[49m\u001b[38;5;241;43m=\u001b[39;49m\u001b[38;5;28;43mself\u001b[39;49m\u001b[43m,\u001b[49m\n\u001b[0;32m   1492\u001b[0m \u001b[43m  \u001b[49m\u001b[43m)\u001b[49m\n\u001b[0;32m   1493\u001b[0m \u001b[38;5;28;01melse\u001b[39;00m:\n\u001b[0;32m   1494\u001b[0m   outputs \u001b[38;5;241m=\u001b[39m execute\u001b[38;5;241m.\u001b[39mexecute_with_cancellation(\n\u001b[0;32m   1495\u001b[0m       name\u001b[38;5;241m.\u001b[39mdecode(\u001b[38;5;124m\"\u001b[39m\u001b[38;5;124mutf-8\u001b[39m\u001b[38;5;124m\"\u001b[39m),\n\u001b[0;32m   1496\u001b[0m       num_outputs\u001b[38;5;241m=\u001b[39mnum_outputs,\n\u001b[1;32m   (...)\u001b[0m\n\u001b[0;32m   1500\u001b[0m       cancellation_manager\u001b[38;5;241m=\u001b[39mcancellation_context,\n\u001b[0;32m   1501\u001b[0m   )\n",
      "File \u001b[1;32mc:\\Users\\user\\Documents\\GitHub\\Age-Dectection-with-CNN\\.venv\\Lib\\site-packages\\tensorflow\\python\\eager\\execute.py:53\u001b[0m, in \u001b[0;36mquick_execute\u001b[1;34m(op_name, num_outputs, inputs, attrs, ctx, name)\u001b[0m\n\u001b[0;32m     51\u001b[0m \u001b[38;5;28;01mtry\u001b[39;00m:\n\u001b[0;32m     52\u001b[0m   ctx\u001b[38;5;241m.\u001b[39mensure_initialized()\n\u001b[1;32m---> 53\u001b[0m   tensors \u001b[38;5;241m=\u001b[39m \u001b[43mpywrap_tfe\u001b[49m\u001b[38;5;241;43m.\u001b[39;49m\u001b[43mTFE_Py_Execute\u001b[49m\u001b[43m(\u001b[49m\u001b[43mctx\u001b[49m\u001b[38;5;241;43m.\u001b[39;49m\u001b[43m_handle\u001b[49m\u001b[43m,\u001b[49m\u001b[43m \u001b[49m\u001b[43mdevice_name\u001b[49m\u001b[43m,\u001b[49m\u001b[43m \u001b[49m\u001b[43mop_name\u001b[49m\u001b[43m,\u001b[49m\n\u001b[0;32m     54\u001b[0m \u001b[43m                                      \u001b[49m\u001b[43minputs\u001b[49m\u001b[43m,\u001b[49m\u001b[43m \u001b[49m\u001b[43mattrs\u001b[49m\u001b[43m,\u001b[49m\u001b[43m \u001b[49m\u001b[43mnum_outputs\u001b[49m\u001b[43m)\u001b[49m\n\u001b[0;32m     55\u001b[0m \u001b[38;5;28;01mexcept\u001b[39;00m core\u001b[38;5;241m.\u001b[39m_NotOkStatusException \u001b[38;5;28;01mas\u001b[39;00m e:\n\u001b[0;32m     56\u001b[0m   \u001b[38;5;28;01mif\u001b[39;00m name \u001b[38;5;129;01mis\u001b[39;00m \u001b[38;5;129;01mnot\u001b[39;00m \u001b[38;5;28;01mNone\u001b[39;00m:\n",
      "\u001b[1;31mKeyboardInterrupt\u001b[0m: "
     ]
    }
   ],
   "source": [
    "age_detection_model.fit(X_train, y_train, batch_size=32, validation_data=(X_test, y_test), epochs=300)"
   ]
  },
  {
   "cell_type": "markdown",
   "metadata": {},
   "source": []
  }
 ],
 "metadata": {
  "kernelspec": {
   "display_name": ".venv",
   "language": "python",
   "name": "python3"
  },
  "language_info": {
   "codemirror_mode": {
    "name": "ipython",
    "version": 3
   },
   "file_extension": ".py",
   "mimetype": "text/x-python",
   "name": "python",
   "nbconvert_exporter": "python",
   "pygments_lexer": "ipython3",
   "version": "3.11.1"
  }
 },
 "nbformat": 4,
 "nbformat_minor": 2
}
